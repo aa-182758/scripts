{
  "nbformat": 4,
  "nbformat_minor": 0,
  "metadata": {
    "colab": {
      "name": "exelPlot.ipynb",
      "provenance": [],
      "authorship_tag": "ABX9TyNGofpP0vE7TZ5zYIEcu+nY",
      "include_colab_link": true
    },
    "kernelspec": {
      "name": "python3",
      "display_name": "Python 3"
    },
    "language_info": {
      "name": "python"
    }
  },
  "cells": [
    {
      "cell_type": "markdown",
      "metadata": {
        "id": "view-in-github",
        "colab_type": "text"
      },
      "source": [
        "<a href=\"https://colab.research.google.com/github/aa-182758/scripts/blob/main/exelPlot.ipynb\" target=\"_parent\"><img src=\"https://colab.research.google.com/assets/colab-badge.svg\" alt=\"Open In Colab\"/></a>"
      ]
    },
    {
      "cell_type": "code",
      "source": [
        "import pandas as pd\n",
        "from collections import Counter\n",
        "\n",
        "df = pd.read_excel('/content/drive/MyDrive/Colab Notebooks/Book19.xlsx')\n",
        "\n",
        "print(df)\n",
        "\n",
        "lis = df['x'].tolist()\n",
        "dic=dict(Counter(lis))\n",
        "\n",
        "print(Counter(lis))\n",
        " \n",
        "keys = dic.keys()\n",
        "values = dic.values()\n",
        "\n",
        "plt.bar(keys, values)\n"
      ],
      "metadata": {
        "id": "eATJsNaxjaPT",
        "colab": {
          "base_uri": "https://localhost:8080/",
          "height": 560
        },
        "outputId": "9538755d-a31a-4147-882a-0f66145179b0"
      },
      "execution_count": 21,
      "outputs": [
        {
          "output_type": "stream",
          "name": "stdout",
          "text": [
            "    Unnamed: 0 Unnamed: 1 Unnamed: 2    x    Unnamed: 4\n",
            "0            1      4.1.1          y  dif  lacks schema\n",
            "1            2      4.1.2          y  eas           NaN\n",
            "2            3        1.3          y  eas           NaN\n",
            "3            4        1.4          y  dif           NaN\n",
            "4            5        1.5          y  dif           NaN\n",
            "5            6        2.1          y  dif           NaN\n",
            "6            7        2.2          y  eas           NaN\n",
            "7            8        2.3          y  eas           NaN\n",
            "8            9        3.1          y  dif           NaN\n",
            "9           10        3.2          y  dif           NaN\n",
            "10          11        3.3          y  dif           NaN\n",
            "11          12        3.4          y  eas           NaN\n",
            "12          13        3.4          y  dif           NaN\n",
            "13          14        3.5          y  eas           NaN\n",
            "Counter({'dif': 8, 'eas': 6})\n"
          ]
        },
        {
          "output_type": "execute_result",
          "data": {
            "text/plain": [
              "<BarContainer object of 2 artists>"
            ]
          },
          "metadata": {},
          "execution_count": 21
        },
        {
          "output_type": "display_data",
          "data": {
            "image/png": "[encoded data removed]",
            "text/plain": [
              "<Figure size 432x288 with 1 Axes>"
            ]
          },
          "metadata": {
            "needs_background": "light"
          }
        }
      ]
    },
    {
      "cell_type": "code",
      "execution_count": null,
      "metadata": {
        "colab": {
          "base_uri": "https://localhost:8080/",
          "height": 282
        },
        "id": "fGjF1LCPgxEl",
        "outputId": "52abd9fe-d11e-4311-a0b6-89a16eaea569"
      },
      "outputs": [
        {
          "output_type": "execute_result",
          "data": {
            "text/plain": [
              "<matplotlib.axes._subplots.AxesSubplot at 0x7f893d897250>"
            ]
          },
          "metadata": {},
          "execution_count": 3
        },
        {
          "output_type": "display_data",
          "data": {
            "image/png": "[encoded data removed]",
            "text/plain": [
              "<Figure size 432x288 with 2 Axes>"
            ]
          },
          "metadata": {
            "needs_background": "light"
          }
        }
      ],
      "source": [
        "import pandas as pd \n",
        "import matplotlib.pyplot as plt\n",
        "import numpy as np\n",
        "\n",
        "fig, axes = plt.subplots(2, 1)\n",
        "data = pd.Series(np.random.rand(16), index=list('abcdefghijklmnop'))\n",
        "data.plot.bar(ax=axes[0], color='k', alpha=0.7)\n",
        "\n"
      ]
    }
  ]
}