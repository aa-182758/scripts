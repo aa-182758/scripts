{
  "nbformat": 4,
  "nbformat_minor": 0,
  "metadata": {
    "colab": {
      "name": "RestAPI.ipynb",
      "provenance": []
    },
    "kernelspec": {
      "name": "python3",
      "display_name": "Python 3"
    },
    "language_info": {
      "name": "python"
    }
  },
  "cells": [
    {
      "cell_type": "code",
      "execution_count": null,
      "metadata": {
        "colab": {
          "base_uri": "https://localhost:8080/"
        },
        "id": "JYwwBanzv0Ln",
        "outputId": "87a0e362-0efb-4f5a-9b25-e2f895aa9680"
      },
      "outputs": [
        {
          "output_type": "stream",
          "name": "stdout",
          "text": [
            "Requirement already satisfied: requests in /usr/local/lib/python3.7/dist-packages (2.23.0)\n",
            "Requirement already satisfied: idna<3,>=2.5 in /usr/local/lib/python3.7/dist-packages (from requests) (2.10)\n",
            "Requirement already satisfied: urllib3!=1.25.0,!=1.25.1,<1.26,>=1.21.1 in /usr/local/lib/python3.7/dist-packages (from requests) (1.24.3)\n",
            "Requirement already satisfied: chardet<4,>=3.0.2 in /usr/local/lib/python3.7/dist-packages (from requests) (3.0.4)\n",
            "Requirement already satisfied: certifi>=2017.4.17 in /usr/local/lib/python3.7/dist-packages (from requests) (2021.10.8)\n"
          ]
        }
      ],
      "source": [
        "pip install requests"
      ]
    },
    {
      "cell_type": "code",
      "source": [
        "import requests\n",
        "response = requests.get(\"https://api.github.com/users/aa-182758\")\n",
        "print(response)"
      ],
      "metadata": {
        "colab": {
          "base_uri": "https://localhost:8080/"
        },
        "id": "d0qpdCF-xHgQ",
        "outputId": "42eb1cb1-666b-4474-ccff-d0a2bc398308"
      },
      "execution_count": null,
      "outputs": [
        {
          "output_type": "stream",
          "name": "stdout",
          "text": [
            "<Response [200]>\n"
          ]
        }
      ]
    },
    {
      "cell_type": "code",
      "source": [
        "response.json()"
      ],
      "metadata": {
        "colab": {
          "base_uri": "https://localhost:8080/"
        },
        "id": "JlDkl9fUxOxW",
        "outputId": "309440c7-2829-40e2-9a6a-7957c4e04bdc"
      },
      "execution_count": null,
      "outputs": [
        {
          "output_type": "execute_result",
          "data": {
            "text/plain": [
              "{'avatar_url': 'https://avatars.githubusercontent.com/u/89774957?v=4',\n",
              " 'bio': None,\n",
              " 'blog': '',\n",
              " 'company': None,\n",
              " 'created_at': '2021-08-30T09:04:17Z',\n",
              " 'email': None,\n",
              " 'events_url': 'https://api.github.com/users/aa-182758/events{/privacy}',\n",
              " 'followers': 0,\n",
              " 'followers_url': 'https://api.github.com/users/aa-182758/followers',\n",
              " 'following': 0,\n",
              " 'following_url': 'https://api.github.com/users/aa-182758/following{/other_user}',\n",
              " 'gists_url': 'https://api.github.com/users/aa-182758/gists{/gist_id}',\n",
              " 'gravatar_id': '',\n",
              " 'hireable': None,\n",
              " 'html_url': 'https://github.com/aa-182758',\n",
              " 'id': 89774957,\n",
              " 'location': None,\n",
              " 'login': 'aa-182758',\n",
              " 'name': None,\n",
              " 'node_id': 'MDQ6VXNlcjg5Nzc0OTU3',\n",
              " 'organizations_url': 'https://api.github.com/users/aa-182758/orgs',\n",
              " 'public_gists': 0,\n",
              " 'public_repos': 4,\n",
              " 'received_events_url': 'https://api.github.com/users/aa-182758/received_events',\n",
              " 'repos_url': 'https://api.github.com/users/aa-182758/repos',\n",
              " 'site_admin': False,\n",
              " 'starred_url': 'https://api.github.com/users/aa-182758/starred{/owner}{/repo}',\n",
              " 'subscriptions_url': 'https://api.github.com/users/aa-182758/subscriptions',\n",
              " 'twitter_username': None,\n",
              " 'type': 'User',\n",
              " 'updated_at': '2021-12-23T07:11:26Z',\n",
              " 'url': 'https://api.github.com/users/aa-182758'}"
            ]
          },
          "metadata": {},
          "execution_count": 12
        }
      ]
    },
    {
      "cell_type": "code",
      "source": [
        "query = {'type':'user'}\n",
        "\n",
        "response = requests.get(\"https://api.github.com/users/aa-182758\", params=query)\n",
        "response.json()"
      ],
      "metadata": {
        "colab": {
          "base_uri": "https://localhost:8080/"
        },
        "id": "pHM56fqc0i_n",
        "outputId": "d2738091-929d-4cba-cdaf-5af57c63510a"
      },
      "execution_count": 16,
      "outputs": [
        {
          "output_type": "execute_result",
          "data": {
            "text/plain": [
              "{'avatar_url': 'https://avatars.githubusercontent.com/u/89774957?v=4',\n",
              " 'bio': None,\n",
              " 'blog': '',\n",
              " 'company': None,\n",
              " 'created_at': '2021-08-30T09:04:17Z',\n",
              " 'email': None,\n",
              " 'events_url': 'https://api.github.com/users/aa-182758/events{/privacy}',\n",
              " 'followers': 0,\n",
              " 'followers_url': 'https://api.github.com/users/aa-182758/followers',\n",
              " 'following': 0,\n",
              " 'following_url': 'https://api.github.com/users/aa-182758/following{/other_user}',\n",
              " 'gists_url': 'https://api.github.com/users/aa-182758/gists{/gist_id}',\n",
              " 'gravatar_id': '',\n",
              " 'hireable': None,\n",
              " 'html_url': 'https://github.com/aa-182758',\n",
              " 'id': 89774957,\n",
              " 'location': None,\n",
              " 'login': 'aa-182758',\n",
              " 'name': 'Aditya',\n",
              " 'node_id': 'MDQ6VXNlcjg5Nzc0OTU3',\n",
              " 'organizations_url': 'https://api.github.com/users/aa-182758/orgs',\n",
              " 'public_gists': 0,\n",
              " 'public_repos': 4,\n",
              " 'received_events_url': 'https://api.github.com/users/aa-182758/received_events',\n",
              " 'repos_url': 'https://api.github.com/users/aa-182758/repos',\n",
              " 'site_admin': False,\n",
              " 'starred_url': 'https://api.github.com/users/aa-182758/starred{/owner}{/repo}',\n",
              " 'subscriptions_url': 'https://api.github.com/users/aa-182758/subscriptions',\n",
              " 'twitter_username': None,\n",
              " 'type': 'User',\n",
              " 'updated_at': '2022-03-07T14:30:48Z',\n",
              " 'url': 'https://api.github.com/users/aa-182758'}"
            ]
          },
          "metadata": {},
          "execution_count": 16
        }
      ]
    }
  ]
}