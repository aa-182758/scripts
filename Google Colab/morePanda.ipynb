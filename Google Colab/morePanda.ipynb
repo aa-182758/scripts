{
  "cells": [
    {
      "cell_type": "code",
      "execution_count": null,
      "metadata": {
        "deletable": true,
        "editable": true,
        "id": "r9kwM4kq4kx6"
      },
      "outputs": [],
      "source": [
        "import numpy as np\n",
        "import pandas as pd\n",
        "np.random.seed(12345)\n",
        "import matplotlib.pyplot as plt\n",
        "plt.rc('figure', figsize=(10, 6))\n",
        "PREVIOUS_MAX_ROWS = pd.options.display.max_rows\n",
        "pd.options.display.max_rows = 20\n",
        "np.set_printoptions(precision=4, suppress=True)"
      ]
    },
    {
      "cell_type": "code",
      "execution_count": null,
      "metadata": {
        "deletable": true,
        "editable": true,
        "id": "f34bxXiH4kx8"
      },
      "outputs": [],
      "source": [
        "import numpy as np; import pandas as pd\n",
        "values = pd.Series(['apple', 'orange', 'apple',\n",
        "                    'apple'] * 2)\n",
        "values\n",
        "pd.unique(values)\n",
        "pd.value_counts(values)"
      ]
    },
    {
      "cell_type": "code",
      "execution_count": null,
      "metadata": {
        "deletable": true,
        "editable": true,
        "id": "2BLozRwm4kx8"
      },
      "outputs": [],
      "source": [
        "values = pd.Series([0, 1, 0, 0] * 2)\n",
        "dim = pd.Series(['apple', 'orange'])\n",
        "values\n",
        "dim"
      ]
    },
    {
      "cell_type": "code",
      "execution_count": null,
      "metadata": {
        "deletable": true,
        "editable": true,
        "id": "B2nbIgcY4kx9"
      },
      "outputs": [],
      "source": [
        "dim.take(values)"
      ]
    },
    {
      "cell_type": "code",
      "execution_count": null,
      "metadata": {
        "deletable": true,
        "editable": true,
        "id": "SMFZHUQL4kx9"
      },
      "outputs": [],
      "source": [
        "fruits = ['apple', 'orange', 'apple', 'apple'] * 2\n",
        "N = len(fruits)\n",
        "df = pd.DataFrame({'fruit': fruits,\n",
        "                   'basket_id': np.arange(N),\n",
        "                   'count': np.random.randint(3, 15, size=N),\n",
        "                   'weight': np.random.uniform(0, 4, size=N)},\n",
        "                  columns=['basket_id', 'fruit', 'count', 'weight'])\n",
        "df"
      ]
    },
    {
      "cell_type": "code",
      "execution_count": null,
      "metadata": {
        "deletable": true,
        "editable": true,
        "id": "pA_lmgLI4kx-"
      },
      "outputs": [],
      "source": [
        "fruit_cat = df['fruit'].astype('category')\n",
        "fruit_cat"
      ]
    },
    {
      "cell_type": "code",
      "execution_count": null,
      "metadata": {
        "deletable": true,
        "editable": true,
        "id": "MtFULcfk4kx-"
      },
      "outputs": [],
      "source": [
        "c = fruit_cat.values\n",
        "type(c)"
      ]
    },
    {
      "cell_type": "code",
      "execution_count": null,
      "metadata": {
        "deletable": true,
        "editable": true,
        "id": "De_aNZpK4kx_"
      },
      "outputs": [],
      "source": [
        "c.categories\n",
        "c.codes"
      ]
    },
    {
      "cell_type": "code",
      "execution_count": null,
      "metadata": {
        "deletable": true,
        "editable": true,
        "id": "RFOGTj-Y4kx_"
      },
      "outputs": [],
      "source": [
        "df['fruit'] = df['fruit'].astype('category')\n",
        "df.fruit"
      ]
    },
    {
      "cell_type": "code",
      "execution_count": null,
      "metadata": {
        "deletable": true,
        "editable": true,
        "id": "whZQXLpj4kx_"
      },
      "outputs": [],
      "source": [
        "my_categories = pd.Categorical(['foo', 'bar', 'baz', 'foo', 'bar'])\n",
        "my_categories"
      ]
    },
    {
      "cell_type": "code",
      "execution_count": null,
      "metadata": {
        "deletable": true,
        "editable": true,
        "id": "kgl9TINm4kx_"
      },
      "outputs": [],
      "source": [
        "categories = ['foo', 'bar', 'baz']\n",
        "codes = [0, 1, 2, 0, 0, 1]\n",
        "my_cats_2 = pd.Categorical.from_codes(codes, categories)\n",
        "my_cats_2"
      ]
    },
    {
      "cell_type": "code",
      "execution_count": null,
      "metadata": {
        "deletable": true,
        "editable": true,
        "id": "3Y0-mZf14kyA"
      },
      "outputs": [],
      "source": [
        "ordered_cat = pd.Categorical.from_codes(codes, categories,\n",
        "                                        ordered=True)\n",
        "ordered_cat"
      ]
    },
    {
      "cell_type": "code",
      "execution_count": null,
      "metadata": {
        "deletable": true,
        "editable": true,
        "id": "lnvfsRiR4kyA"
      },
      "outputs": [],
      "source": [
        "my_cats_2.as_ordered()"
      ]
    },
    {
      "cell_type": "code",
      "execution_count": null,
      "metadata": {
        "deletable": true,
        "editable": true,
        "id": "hP_juQeC4kyA"
      },
      "outputs": [],
      "source": [
        "np.random.seed(12345)\n",
        "draws = np.random.randn(1000)\n",
        "draws[:5]"
      ]
    },
    {
      "cell_type": "code",
      "execution_count": null,
      "metadata": {
        "deletable": true,
        "editable": true,
        "id": "-b24CXiR4kyA"
      },
      "outputs": [],
      "source": [
        "bins = pd.qcut(draws, 4)\n",
        "bins"
      ]
    },
    {
      "cell_type": "code",
      "execution_count": null,
      "metadata": {
        "deletable": true,
        "editable": true,
        "id": "IUcZ_WJ54kyB"
      },
      "outputs": [],
      "source": [
        "bins = pd.qcut(draws, 4, labels=['Q1', 'Q2', 'Q3', 'Q4'])\n",
        "bins\n",
        "bins.codes[:10]"
      ]
    },
    {
      "cell_type": "code",
      "execution_count": null,
      "metadata": {
        "deletable": true,
        "editable": true,
        "id": "EveQYaNj4kyB"
      },
      "outputs": [],
      "source": [
        "bins = pd.Series(bins, name='quartile')\n",
        "results = (pd.Series(draws)\n",
        "           .groupby(bins)\n",
        "           .agg(['count', 'min', 'max'])\n",
        "           .reset_index())\n",
        "results"
      ]
    },
    {
      "cell_type": "code",
      "execution_count": null,
      "metadata": {
        "deletable": true,
        "editable": true,
        "id": "_a5we-kP4kyB"
      },
      "outputs": [],
      "source": [
        "results['quartile']"
      ]
    },
    {
      "cell_type": "code",
      "execution_count": null,
      "metadata": {
        "deletable": true,
        "editable": true,
        "id": "HOZMa0kO4kyB"
      },
      "outputs": [],
      "source": [
        "N = 10000000\n",
        "draws = pd.Series(np.random.randn(N))\n",
        "labels = pd.Series(['foo', 'bar', 'baz', 'qux'] * (N // 4))"
      ]
    },
    {
      "cell_type": "code",
      "execution_count": null,
      "metadata": {
        "deletable": true,
        "editable": true,
        "id": "pQ9D5LMo4kyC"
      },
      "outputs": [],
      "source": [
        "categories = labels.astype('category')"
      ]
    },
    {
      "cell_type": "code",
      "execution_count": null,
      "metadata": {
        "deletable": true,
        "editable": true,
        "id": "grxLUcfw4kyC"
      },
      "outputs": [],
      "source": [
        "labels.memory_usage()\n",
        "categories.memory_usage()"
      ]
    },
    {
      "cell_type": "code",
      "execution_count": null,
      "metadata": {
        "deletable": true,
        "editable": true,
        "id": "sMwduzzV4kyC"
      },
      "outputs": [],
      "source": [
        "%time _ = labels.astype('category')"
      ]
    },
    {
      "cell_type": "code",
      "execution_count": null,
      "metadata": {
        "deletable": true,
        "editable": true,
        "id": "alIDI-YI4kyC"
      },
      "outputs": [],
      "source": [
        "s = pd.Series(['a', 'b', 'c', 'd'] * 2)\n",
        "cat_s = s.astype('category')\n",
        "cat_s"
      ]
    },
    {
      "cell_type": "code",
      "execution_count": null,
      "metadata": {
        "deletable": true,
        "editable": true,
        "id": "rbe1bMOV4kyC"
      },
      "outputs": [],
      "source": [
        "cat_s.cat.codes\n",
        "cat_s.cat.categories"
      ]
    },
    {
      "cell_type": "code",
      "execution_count": null,
      "metadata": {
        "deletable": true,
        "editable": true,
        "id": "uDBDYJVq4kyC"
      },
      "outputs": [],
      "source": [
        "actual_categories = ['a', 'b', 'c', 'd', 'e']\n",
        "cat_s2 = cat_s.cat.set_categories(actual_categories)\n",
        "cat_s2"
      ]
    },
    {
      "cell_type": "code",
      "execution_count": null,
      "metadata": {
        "deletable": true,
        "editable": true,
        "id": "45q788oS4kyD"
      },
      "outputs": [],
      "source": [
        "cat_s.value_counts()\n",
        "cat_s2.value_counts()"
      ]
    },
    {
      "cell_type": "code",
      "execution_count": null,
      "metadata": {
        "deletable": true,
        "editable": true,
        "id": "gNWCJaRI4kyD"
      },
      "outputs": [],
      "source": [
        "cat_s3 = cat_s[cat_s.isin(['a', 'b'])]\n",
        "cat_s3\n",
        "cat_s3.cat.remove_unused_categories()"
      ]
    },
    {
      "cell_type": "code",
      "execution_count": null,
      "metadata": {
        "deletable": true,
        "editable": true,
        "id": "kzrwY4l04kyD"
      },
      "outputs": [],
      "source": [
        "cat_s = pd.Series(['a', 'b', 'c', 'd'] * 2, dtype='category')"
      ]
    },
    {
      "cell_type": "code",
      "execution_count": null,
      "metadata": {
        "deletable": true,
        "editable": true,
        "id": "s8VTGg-a4kyD"
      },
      "outputs": [],
      "source": [
        "pd.get_dummies(cat_s)"
      ]
    },
    {
      "cell_type": "code",
      "execution_count": null,
      "metadata": {
        "deletable": true,
        "editable": true,
        "id": "MPkMyFKR4kyE"
      },
      "outputs": [],
      "source": [
        "df = pd.DataFrame({'key': ['a', 'b', 'c'] * 4,\n",
        "                   'value': np.arange(12.)})\n",
        "df"
      ]
    },
    {
      "cell_type": "code",
      "execution_count": null,
      "metadata": {
        "deletable": true,
        "editable": true,
        "id": "rZJjKzKZ4kyE"
      },
      "outputs": [],
      "source": [
        "g = df.groupby('key').value\n",
        "g.mean()"
      ]
    },
    {
      "cell_type": "code",
      "execution_count": null,
      "metadata": {
        "deletable": true,
        "editable": true,
        "id": "tw8qvBYi4kyE"
      },
      "outputs": [],
      "source": [
        "g.transform(lambda x: x.mean())"
      ]
    },
    {
      "cell_type": "code",
      "execution_count": null,
      "metadata": {
        "deletable": true,
        "editable": true,
        "id": "aJjtAPy84kyE"
      },
      "outputs": [],
      "source": [
        "g.transform('mean')"
      ]
    },
    {
      "cell_type": "code",
      "execution_count": null,
      "metadata": {
        "deletable": true,
        "editable": true,
        "id": "EEVTm-se4kyE"
      },
      "outputs": [],
      "source": [
        "g.transform(lambda x: x * 2)"
      ]
    },
    {
      "cell_type": "code",
      "execution_count": null,
      "metadata": {
        "deletable": true,
        "editable": true,
        "id": "8-pVKfTH4kyE"
      },
      "outputs": [],
      "source": [
        "g.transform(lambda x: x.rank(ascending=False))"
      ]
    },
    {
      "cell_type": "code",
      "execution_count": null,
      "metadata": {
        "deletable": true,
        "editable": true,
        "id": "nCdYhZ0o4kyE"
      },
      "outputs": [],
      "source": [
        "def normalize(x):\n",
        "    return (x - x.mean()) / x.std()"
      ]
    },
    {
      "cell_type": "code",
      "execution_count": null,
      "metadata": {
        "deletable": true,
        "editable": true,
        "id": "KYcMRnJd4kyF"
      },
      "outputs": [],
      "source": [
        "g.transform(normalize)\n",
        "g.apply(normalize)"
      ]
    },
    {
      "cell_type": "code",
      "execution_count": null,
      "metadata": {
        "deletable": true,
        "editable": true,
        "id": "Vqe0Wvik4kyF"
      },
      "outputs": [],
      "source": [
        "g.transform('mean')\n",
        "normalized = (df['value'] - g.transform('mean')) / g.transform('std')\n",
        "normalized"
      ]
    },
    {
      "cell_type": "code",
      "execution_count": null,
      "metadata": {
        "deletable": true,
        "editable": true,
        "id": "Jxsq4rYA4kyF"
      },
      "outputs": [],
      "source": [
        "N = 15\n",
        "times = pd.date_range('2017-05-20 00:00', freq='1min', periods=N)\n",
        "df = pd.DataFrame({'time': times,\n",
        "                   'value': np.arange(N)})\n",
        "df"
      ]
    },
    {
      "cell_type": "code",
      "execution_count": null,
      "metadata": {
        "deletable": true,
        "editable": true,
        "id": "SE3Gg8ui4kyF"
      },
      "outputs": [],
      "source": [
        "df.set_index('time').resample('5min').count()"
      ]
    },
    {
      "cell_type": "code",
      "execution_count": null,
      "metadata": {
        "deletable": true,
        "editable": true,
        "id": "QHL7Air44kyF"
      },
      "outputs": [],
      "source": [
        "df2 = pd.DataFrame({'time': times.repeat(3),\n",
        "                    'key': np.tile(['a', 'b', 'c'], N),\n",
        "                    'value': np.arange(N * 3.)})\n",
        "df2[:7]"
      ]
    },
    {
      "cell_type": "code",
      "execution_count": null,
      "metadata": {
        "deletable": true,
        "editable": true,
        "id": "gVwzk_rN4kyF"
      },
      "outputs": [],
      "source": [
        "time_key = pd.TimeGrouper('5min')"
      ]
    },
    {
      "cell_type": "code",
      "execution_count": null,
      "metadata": {
        "deletable": true,
        "editable": true,
        "id": "GhsTqBsD4kyG"
      },
      "outputs": [],
      "source": [
        "resampled = (df2.set_index('time')\n",
        "             .groupby(['key', time_key])\n",
        "             .sum())\n",
        "resampled\n",
        "resampled.reset_index()"
      ]
    },
    {
      "cell_type": "markdown",
      "metadata": {
        "deletable": true,
        "editable": true,
        "id": "FZGad6zI4kyG"
      },
      "source": [
        "```python\n",
        "df = load_data()\n",
        "df2 = df[df['col2'] < 0]\n",
        "df2['col1_demeaned'] = df2['col1'] - df2['col1'].mean()\n",
        "result = df2.groupby('key').col1_demeaned.std()\n",
        "```"
      ]
    },
    {
      "cell_type": "markdown",
      "metadata": {
        "deletable": true,
        "editable": true,
        "id": "z_6aSxgR4kyG"
      },
      "source": [
        "```python\n",
        "# Usual non-functional way\n",
        "df2 = df.copy()\n",
        "df2['k'] = v\n",
        "\n",
        "# Functional assign way\n",
        "df2 = df.assign(k=v)\n",
        "```"
      ]
    },
    {
      "cell_type": "markdown",
      "metadata": {
        "deletable": true,
        "editable": true,
        "id": "si980X_z4kyG"
      },
      "source": [
        "```python\n",
        "result = (df2.assign(col1_demeaned=df2.col1 - df2.col2.mean())\n",
        "          .groupby('key')\n",
        "          .col1_demeaned.std())\n",
        "```"
      ]
    },
    {
      "cell_type": "markdown",
      "metadata": {
        "deletable": true,
        "editable": true,
        "id": "5fhpVei54kyG"
      },
      "source": [
        "```python\n",
        "df = load_data()\n",
        "df2 = df[df['col2'] < 0]\n",
        "```"
      ]
    },
    {
      "cell_type": "markdown",
      "metadata": {
        "deletable": true,
        "editable": true,
        "id": "vVBbetb54kyG"
      },
      "source": [
        "```python\n",
        "df = (load_data()\n",
        "      [lambda x: x['col2'] < 0])\n",
        "```"
      ]
    },
    {
      "cell_type": "markdown",
      "metadata": {
        "deletable": true,
        "editable": true,
        "id": "xRD4Q55o4kyH"
      },
      "source": [
        "```python\n",
        "result = (load_data()\n",
        "          [lambda x: x.col2 < 0]\n",
        "          .assign(col1_demeaned=lambda x: x.col1 - x.col1.mean())\n",
        "          .groupby('key')\n",
        "          .col1_demeaned.std())\n",
        "```"
      ]
    },
    {
      "cell_type": "markdown",
      "metadata": {
        "deletable": true,
        "editable": true,
        "id": "yH4pHNQ44kyH"
      },
      "source": [
        "```python\n",
        "a = f(df, arg1=v1)\n",
        "b = g(a, v2, arg3=v3)\n",
        "c = h(b, arg4=v4)\n",
        "```"
      ]
    },
    {
      "cell_type": "markdown",
      "metadata": {
        "deletable": true,
        "editable": true,
        "id": "FByWCTOO4kyH"
      },
      "source": [
        "```python\n",
        "result = (df.pipe(f, arg1=v1)\n",
        "          .pipe(g, v2, arg3=v3)\n",
        "          .pipe(h, arg4=v4))\n",
        "```"
      ]
    },
    {
      "cell_type": "markdown",
      "metadata": {
        "deletable": true,
        "editable": true,
        "id": "gKKODpjh4kyH"
      },
      "source": [
        "```python\n",
        "g = df.groupby(['key1', 'key2'])\n",
        "df['col1'] = df['col1'] - g.transform('mean')\n",
        "```"
      ]
    },
    {
      "cell_type": "markdown",
      "metadata": {
        "deletable": true,
        "editable": true,
        "id": "JC6iCa0x4kyJ"
      },
      "source": [
        "```python\n",
        "def group_demean(df, by, cols):\n",
        "    result = df.copy()\n",
        "    g = df.groupby(by)\n",
        "    for c in cols:\n",
        "        result[c] = df[c] - g[c].transform('mean')\n",
        "    return result\n",
        "```"
      ]
    },
    {
      "cell_type": "markdown",
      "metadata": {
        "deletable": true,
        "editable": true,
        "id": "N_CltYeV4kyJ"
      },
      "source": [
        "```python\n",
        "result = (df[df.col1 < 0]\n",
        "          .pipe(group_demean, ['key1', 'key2'], ['col1']))\n",
        "```"
      ]
    },
    {
      "cell_type": "code",
      "execution_count": null,
      "metadata": {
        "collapsed": true,
        "deletable": true,
        "editable": true,
        "id": "YxhH_6gt4kyJ"
      },
      "outputs": [],
      "source": [
        "pd.options.display.max_rows = PREVIOUS_MAX_ROWS"
      ]
    }
  ],
  "metadata": {
    "kernelspec": {
      "display_name": "Python 3",
      "language": "python",
      "name": "python3"
    },
    "language_info": {
      "codemirror_mode": {
        "name": "ipython",
        "version": 3
      },
      "file_extension": ".py",
      "mimetype": "text/x-python",
      "name": "python",
      "nbconvert_exporter": "python",
      "pygments_lexer": "ipython3",
      "version": "3.5.1"
    },
    "colab": {
      "name": "morePanda.ipynb",
      "provenance": []
    }
  },
  "nbformat": 4,
  "nbformat_minor": 0
}