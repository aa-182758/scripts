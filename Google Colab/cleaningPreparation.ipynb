{
  "cells": [
    {
      "cell_type": "code",
      "execution_count": null,
      "metadata": {
        "deletable": true,
        "editable": true,
        "id": "xGWdog41rQr8"
      },
      "outputs": [],
      "source": [
        "import numpy as np\n",
        "import pandas as pd\n",
        "PREVIOUS_MAX_ROWS = pd.options.display.max_rows\n",
        "pd.options.display.max_rows = 20\n",
        "np.random.seed(12345)\n",
        "import matplotlib.pyplot as plt\n",
        "plt.rc('figure', figsize=(10, 6))\n",
        "np.set_printoptions(precision=4, suppress=True)"
      ]
    },
    {
      "cell_type": "code",
      "execution_count": null,
      "metadata": {
        "deletable": true,
        "editable": true,
        "id": "V-S-E9-HrQr9"
      },
      "outputs": [],
      "source": [
        "string_data = pd.Series(['aardvark', 'artichoke', np.nan, 'avocado'])\n",
        "string_data\n",
        "string_data.isnull()"
      ]
    },
    {
      "cell_type": "code",
      "execution_count": null,
      "metadata": {
        "deletable": true,
        "editable": true,
        "id": "QcJyYeNjrQr-"
      },
      "outputs": [],
      "source": [
        "string_data[0] = None\n",
        "string_data.isnull()"
      ]
    },
    {
      "cell_type": "code",
      "execution_count": null,
      "metadata": {
        "deletable": true,
        "editable": true,
        "id": "P0fB7zpTrQr-"
      },
      "outputs": [],
      "source": [
        "from numpy import nan as NA\n",
        "data = pd.Series([1, NA, 3.5, NA, 7])\n",
        "data.dropna()"
      ]
    },
    {
      "cell_type": "code",
      "execution_count": null,
      "metadata": {
        "deletable": true,
        "editable": true,
        "id": "DooyOdI3rQr_"
      },
      "outputs": [],
      "source": [
        "data[data.notnull()]"
      ]
    },
    {
      "cell_type": "code",
      "execution_count": null,
      "metadata": {
        "deletable": true,
        "editable": true,
        "id": "JOGe1McJrQr_"
      },
      "outputs": [],
      "source": [
        "data = pd.DataFrame([[1., 6.5, 3.], [1., NA, NA],\n",
        "                     [NA, NA, NA], [NA, 6.5, 3.]])\n",
        "cleaned = data.dropna()\n",
        "data\n",
        "cleaned"
      ]
    },
    {
      "cell_type": "code",
      "execution_count": null,
      "metadata": {
        "deletable": true,
        "editable": true,
        "id": "JyPYPog3rQr_"
      },
      "outputs": [],
      "source": [
        "data.dropna(how='all')"
      ]
    },
    {
      "cell_type": "code",
      "execution_count": null,
      "metadata": {
        "deletable": true,
        "editable": true,
        "id": "6-Z2eX__rQsA"
      },
      "outputs": [],
      "source": [
        "data[4] = NA\n",
        "data\n",
        "data.dropna(axis=1, how='all')"
      ]
    },
    {
      "cell_type": "code",
      "execution_count": null,
      "metadata": {
        "deletable": true,
        "editable": true,
        "id": "5fMQnwFRrQsA"
      },
      "outputs": [],
      "source": [
        "df = pd.DataFrame(np.random.randn(7, 3))\n",
        "df.iloc[:4, 1] = NA\n",
        "df.iloc[:2, 2] = NA\n",
        "df\n",
        "df.dropna()\n",
        "df.dropna(thresh=2)"
      ]
    },
    {
      "cell_type": "code",
      "execution_count": null,
      "metadata": {
        "deletable": true,
        "editable": true,
        "id": "bmmMzJPgrQsB"
      },
      "outputs": [],
      "source": [
        "df.fillna(0)"
      ]
    },
    {
      "cell_type": "code",
      "execution_count": null,
      "metadata": {
        "deletable": true,
        "editable": true,
        "id": "I6cMlv8MrQsB"
      },
      "outputs": [],
      "source": [
        "df.fillna({1: 0.5, 2: 0})"
      ]
    },
    {
      "cell_type": "code",
      "execution_count": null,
      "metadata": {
        "deletable": true,
        "editable": true,
        "id": "hUbxq5qerQsB"
      },
      "outputs": [],
      "source": [
        "_ = df.fillna(0, inplace=True)\n",
        "df"
      ]
    },
    {
      "cell_type": "code",
      "execution_count": null,
      "metadata": {
        "deletable": true,
        "editable": true,
        "id": "Vy-6o_GYrQsB"
      },
      "outputs": [],
      "source": [
        "df = pd.DataFrame(np.random.randn(6, 3))\n",
        "df.iloc[2:, 1] = NA\n",
        "df.iloc[4:, 2] = NA\n",
        "df\n",
        "df.fillna(method='ffill')\n",
        "df.fillna(method='ffill', limit=2)"
      ]
    },
    {
      "cell_type": "code",
      "execution_count": null,
      "metadata": {
        "deletable": true,
        "editable": true,
        "id": "6Xba4G1UrQsC"
      },
      "outputs": [],
      "source": [
        "data = pd.Series([1., NA, 3.5, NA, 7])\n",
        "data.fillna(data.mean())"
      ]
    },
    {
      "cell_type": "code",
      "execution_count": null,
      "metadata": {
        "deletable": true,
        "editable": true,
        "id": "4SCSN_-orQsC"
      },
      "outputs": [],
      "source": [
        "data = pd.DataFrame({'k1': ['one', 'two'] * 3 + ['two'],\n",
        "                     'k2': [1, 1, 2, 3, 3, 4, 4]})\n",
        "data"
      ]
    },
    {
      "cell_type": "code",
      "execution_count": null,
      "metadata": {
        "deletable": true,
        "editable": true,
        "id": "jeN5Pw2orQsC"
      },
      "outputs": [],
      "source": [
        "data.duplicated()"
      ]
    },
    {
      "cell_type": "code",
      "execution_count": null,
      "metadata": {
        "deletable": true,
        "editable": true,
        "id": "22MORt29rQsD"
      },
      "outputs": [],
      "source": [
        "data.drop_duplicates()"
      ]
    },
    {
      "cell_type": "code",
      "execution_count": null,
      "metadata": {
        "deletable": true,
        "editable": true,
        "id": "0rchTRNirQsD"
      },
      "outputs": [],
      "source": [
        "data['v1'] = range(7)\n",
        "data.drop_duplicates(['k1'])"
      ]
    },
    {
      "cell_type": "code",
      "execution_count": null,
      "metadata": {
        "deletable": true,
        "editable": true,
        "id": "-xOXrO5JrQsD"
      },
      "outputs": [],
      "source": [
        "data.drop_duplicates(['k1', 'k2'], keep='last')"
      ]
    },
    {
      "cell_type": "code",
      "execution_count": null,
      "metadata": {
        "deletable": true,
        "editable": true,
        "id": "7fAwOpT5rQsD"
      },
      "outputs": [],
      "source": [
        "data = pd.DataFrame({'food': ['bacon', 'pulled pork', 'bacon',\n",
        "                              'Pastrami', 'corned beef', 'Bacon',\n",
        "                              'pastrami', 'honey ham', 'nova lox'],\n",
        "                     'ounces': [4, 3, 12, 6, 7.5, 8, 3, 5, 6]})\n",
        "data"
      ]
    },
    {
      "cell_type": "code",
      "execution_count": null,
      "metadata": {
        "deletable": true,
        "editable": true,
        "id": "5Kyg5Md_rQsD"
      },
      "outputs": [],
      "source": [
        "meat_to_animal = {\n",
        "  'bacon': 'pig',\n",
        "  'pulled pork': 'pig',\n",
        "  'pastrami': 'cow',\n",
        "  'corned beef': 'cow',\n",
        "  'honey ham': 'pig',\n",
        "  'nova lox': 'salmon'\n",
        "}"
      ]
    },
    {
      "cell_type": "code",
      "execution_count": null,
      "metadata": {
        "deletable": true,
        "editable": true,
        "id": "5STSGaq0rQsD"
      },
      "outputs": [],
      "source": [
        "lowercased = data['food'].str.lower()\n",
        "lowercased\n",
        "data['animal'] = lowercased.map(meat_to_animal)\n",
        "data"
      ]
    },
    {
      "cell_type": "code",
      "execution_count": null,
      "metadata": {
        "deletable": true,
        "editable": true,
        "id": "WsztNSyhrQsE"
      },
      "outputs": [],
      "source": [
        "data['food'].map(lambda x: meat_to_animal[x.lower()])"
      ]
    },
    {
      "cell_type": "code",
      "execution_count": null,
      "metadata": {
        "deletable": true,
        "editable": true,
        "id": "dxYJEW5UrQsE"
      },
      "outputs": [],
      "source": [
        "data = pd.Series([1., -999., 2., -999., -1000., 3.])\n",
        "data"
      ]
    },
    {
      "cell_type": "code",
      "execution_count": null,
      "metadata": {
        "deletable": true,
        "editable": true,
        "id": "HcxYTmkzrQsE"
      },
      "outputs": [],
      "source": [
        "data.replace(-999, np.nan)"
      ]
    },
    {
      "cell_type": "code",
      "execution_count": null,
      "metadata": {
        "deletable": true,
        "editable": true,
        "id": "TbrqlmusrQsE"
      },
      "outputs": [],
      "source": [
        "data.replace([-999, -1000], np.nan)"
      ]
    },
    {
      "cell_type": "code",
      "execution_count": null,
      "metadata": {
        "deletable": true,
        "editable": true,
        "id": "dUHuA_iCrQsE"
      },
      "outputs": [],
      "source": [
        "data.replace([-999, -1000], [np.nan, 0])"
      ]
    },
    {
      "cell_type": "code",
      "execution_count": null,
      "metadata": {
        "deletable": true,
        "editable": true,
        "id": "zbm9dut8rQsE"
      },
      "outputs": [],
      "source": [
        "data.replace({-999: np.nan, -1000: 0})"
      ]
    },
    {
      "cell_type": "code",
      "execution_count": null,
      "metadata": {
        "deletable": true,
        "editable": true,
        "id": "i6c8TQ9BrQsF"
      },
      "outputs": [],
      "source": [
        "data = pd.DataFrame(np.arange(12).reshape((3, 4)),\n",
        "                    index=['Ohio', 'Colorado', 'New York'],\n",
        "                    columns=['one', 'two', 'three', 'four'])"
      ]
    },
    {
      "cell_type": "code",
      "execution_count": null,
      "metadata": {
        "deletable": true,
        "editable": true,
        "id": "CGWpSTIjrQsF"
      },
      "outputs": [],
      "source": [
        "transform = lambda x: x[:4].upper()\n",
        "data.index.map(transform)"
      ]
    },
    {
      "cell_type": "code",
      "execution_count": null,
      "metadata": {
        "deletable": true,
        "editable": true,
        "id": "HhF073fTrQsF"
      },
      "outputs": [],
      "source": [
        "data.index = data.index.map(transform)\n",
        "data"
      ]
    },
    {
      "cell_type": "code",
      "execution_count": null,
      "metadata": {
        "deletable": true,
        "editable": true,
        "id": "Sks5JLgSrQsF"
      },
      "outputs": [],
      "source": [
        "data.rename(index=str.title, columns=str.upper)"
      ]
    },
    {
      "cell_type": "code",
      "execution_count": null,
      "metadata": {
        "deletable": true,
        "editable": true,
        "id": "E8QQCChCrQsF"
      },
      "outputs": [],
      "source": [
        "data.rename(index={'OHIO': 'INDIANA'},\n",
        "            columns={'three': 'peekaboo'})"
      ]
    },
    {
      "cell_type": "code",
      "execution_count": null,
      "metadata": {
        "deletable": true,
        "editable": true,
        "id": "SJpVy-kyrQsF"
      },
      "outputs": [],
      "source": [
        "data.rename(index={'OHIO': 'INDIANA'}, inplace=True)\n",
        "data"
      ]
    },
    {
      "cell_type": "code",
      "execution_count": null,
      "metadata": {
        "deletable": true,
        "editable": true,
        "id": "Be8xL-hmrQsG"
      },
      "outputs": [],
      "source": [
        "ages = [20, 22, 25, 27, 21, 23, 37, 31, 61, 45, 41, 32]"
      ]
    },
    {
      "cell_type": "code",
      "execution_count": null,
      "metadata": {
        "deletable": true,
        "editable": true,
        "id": "MIHc-q4RrQsG"
      },
      "outputs": [],
      "source": [
        "bins = [18, 25, 35, 60, 100]\n",
        "cats = pd.cut(ages, bins)\n",
        "cats"
      ]
    },
    {
      "cell_type": "code",
      "execution_count": null,
      "metadata": {
        "deletable": true,
        "editable": true,
        "id": "KwOM6UNwrQsG"
      },
      "outputs": [],
      "source": [
        "cats.codes\n",
        "cats.categories\n",
        "pd.value_counts(cats)"
      ]
    },
    {
      "cell_type": "code",
      "execution_count": null,
      "metadata": {
        "deletable": true,
        "editable": true,
        "id": "va0hn2zSrQsG"
      },
      "outputs": [],
      "source": [
        "pd.cut(ages, [18, 26, 36, 61, 100], right=False)"
      ]
    },
    {
      "cell_type": "code",
      "execution_count": null,
      "metadata": {
        "deletable": true,
        "editable": true,
        "id": "_migqsaKrQsG"
      },
      "outputs": [],
      "source": [
        "group_names = ['Youth', 'YoungAdult', 'MiddleAged', 'Senior']\n",
        "pd.cut(ages, bins, labels=group_names)"
      ]
    },
    {
      "cell_type": "code",
      "execution_count": null,
      "metadata": {
        "deletable": true,
        "editable": true,
        "id": "ujhBE9N7rQsG"
      },
      "outputs": [],
      "source": [
        "data = np.random.rand(20)\n",
        "pd.cut(data, 4, precision=2)"
      ]
    },
    {
      "cell_type": "code",
      "execution_count": null,
      "metadata": {
        "deletable": true,
        "editable": true,
        "id": "j0GN8fsPrQsG"
      },
      "outputs": [],
      "source": [
        "data = np.random.randn(1000)  # Normally distributed\n",
        "cats = pd.qcut(data, 4)  # Cut into quartiles\n",
        "cats\n",
        "pd.value_counts(cats)"
      ]
    },
    {
      "cell_type": "code",
      "execution_count": null,
      "metadata": {
        "deletable": true,
        "editable": true,
        "id": "ZpvqUuvhrQsG"
      },
      "outputs": [],
      "source": [
        "pd.qcut(data, [0, 0.1, 0.5, 0.9, 1.])"
      ]
    },
    {
      "cell_type": "code",
      "execution_count": null,
      "metadata": {
        "deletable": true,
        "editable": true,
        "id": "G0ZOAslSrQsH"
      },
      "outputs": [],
      "source": [
        "data = pd.DataFrame(np.random.randn(1000, 4))\n",
        "data.describe()"
      ]
    },
    {
      "cell_type": "code",
      "execution_count": null,
      "metadata": {
        "deletable": true,
        "editable": true,
        "id": "oP4fY74HrQsH"
      },
      "outputs": [],
      "source": [
        "col = data[2]\n",
        "col[np.abs(col) > 3]"
      ]
    },
    {
      "cell_type": "code",
      "execution_count": null,
      "metadata": {
        "deletable": true,
        "editable": true,
        "id": "cXZuD0HBrQsH"
      },
      "outputs": [],
      "source": [
        "data[(np.abs(data) > 3).any(1)]"
      ]
    },
    {
      "cell_type": "code",
      "execution_count": null,
      "metadata": {
        "deletable": true,
        "editable": true,
        "id": "uUmMFjaqrQsH"
      },
      "outputs": [],
      "source": [
        "data[np.abs(data) > 3] = np.sign(data) * 3\n",
        "data.describe()"
      ]
    },
    {
      "cell_type": "code",
      "execution_count": null,
      "metadata": {
        "deletable": true,
        "editable": true,
        "id": "ZYiZ7j-VrQsH"
      },
      "outputs": [],
      "source": [
        "np.sign(data).head()"
      ]
    },
    {
      "cell_type": "code",
      "execution_count": null,
      "metadata": {
        "deletable": true,
        "editable": true,
        "id": "XLGuRxsHrQsH"
      },
      "outputs": [],
      "source": [
        "df = pd.DataFrame(np.arange(5 * 4).reshape((5, 4)))\n",
        "sampler = np.random.permutation(5)\n",
        "sampler"
      ]
    },
    {
      "cell_type": "code",
      "execution_count": null,
      "metadata": {
        "deletable": true,
        "editable": true,
        "id": "oNSnU99hrQsH"
      },
      "outputs": [],
      "source": [
        "df\n",
        "df.take(sampler)"
      ]
    },
    {
      "cell_type": "code",
      "execution_count": null,
      "metadata": {
        "deletable": true,
        "editable": true,
        "id": "H4UnKgxFrQsI"
      },
      "outputs": [],
      "source": [
        "df.sample(n=3)"
      ]
    },
    {
      "cell_type": "code",
      "execution_count": null,
      "metadata": {
        "deletable": true,
        "editable": true,
        "id": "0baskIkFrQsI"
      },
      "outputs": [],
      "source": [
        "choices = pd.Series([5, 7, -1, 6, 4])\n",
        "draws = choices.sample(n=10, replace=True)\n",
        "draws"
      ]
    },
    {
      "cell_type": "code",
      "execution_count": null,
      "metadata": {
        "deletable": true,
        "editable": true,
        "id": "G8Aa-jngrQsI"
      },
      "outputs": [],
      "source": [
        "df = pd.DataFrame({'key': ['b', 'b', 'a', 'c', 'a', 'b'],\n",
        "                   'data1': range(6)})\n",
        "pd.get_dummies(df['key'])"
      ]
    },
    {
      "cell_type": "code",
      "execution_count": null,
      "metadata": {
        "deletable": true,
        "editable": true,
        "id": "H_U0baG2rQsI"
      },
      "outputs": [],
      "source": [
        "dummies = pd.get_dummies(df['key'], prefix='key')\n",
        "df_with_dummy = df[['data1']].join(dummies)\n",
        "df_with_dummy"
      ]
    },
    {
      "cell_type": "code",
      "execution_count": null,
      "metadata": {
        "deletable": true,
        "editable": true,
        "id": "01wMbv2zrQsI"
      },
      "outputs": [],
      "source": [
        "mnames = ['movie_id', 'title', 'genres']\n",
        "movies = pd.read_table('datasets/movielens/movies.dat', sep='::',\n",
        "                       header=None, names=mnames)\n",
        "movies[:10]"
      ]
    },
    {
      "cell_type": "code",
      "execution_count": null,
      "metadata": {
        "deletable": true,
        "editable": true,
        "id": "LRntszNtrQsI"
      },
      "outputs": [],
      "source": [
        "all_genres = []\n",
        "for x in movies.genres:\n",
        "    all_genres.extend(x.split('|'))\n",
        "genres = pd.unique(all_genres)"
      ]
    },
    {
      "cell_type": "code",
      "execution_count": null,
      "metadata": {
        "deletable": true,
        "editable": true,
        "id": "Rk4p2ATyrQsI"
      },
      "outputs": [],
      "source": [
        "genres"
      ]
    },
    {
      "cell_type": "code",
      "execution_count": null,
      "metadata": {
        "deletable": true,
        "editable": true,
        "id": "qEFDW2htrQsI"
      },
      "outputs": [],
      "source": [
        "zero_matrix = np.zeros((len(movies), len(genres)))\n",
        "dummies = pd.DataFrame(zero_matrix, columns=genres)"
      ]
    },
    {
      "cell_type": "code",
      "execution_count": null,
      "metadata": {
        "deletable": true,
        "editable": true,
        "id": "nMydAJd0rQsJ"
      },
      "outputs": [],
      "source": [
        "gen = movies.genres[0]\n",
        "gen.split('|')\n",
        "dummies.columns.get_indexer(gen.split('|'))"
      ]
    },
    {
      "cell_type": "code",
      "execution_count": null,
      "metadata": {
        "deletable": true,
        "editable": true,
        "id": "MvK1gJFirQsJ"
      },
      "outputs": [],
      "source": [
        "for i, gen in enumerate(movies.genres):\n",
        "    indices = dummies.columns.get_indexer(gen.split('|'))\n",
        "    dummies.iloc[i, indices] = 1"
      ]
    },
    {
      "cell_type": "code",
      "execution_count": null,
      "metadata": {
        "deletable": true,
        "editable": true,
        "id": "yNMNvrbGrQsJ"
      },
      "outputs": [],
      "source": [
        "movies_windic = movies.join(dummies.add_prefix('Genre_'))\n",
        "movies_windic.iloc[0]"
      ]
    },
    {
      "cell_type": "code",
      "execution_count": null,
      "metadata": {
        "deletable": true,
        "editable": true,
        "id": "lo3KbvFYrQsJ"
      },
      "outputs": [],
      "source": [
        "np.random.seed(12345)\n",
        "values = np.random.rand(10)\n",
        "values\n",
        "bins = [0, 0.2, 0.4, 0.6, 0.8, 1]\n",
        "pd.get_dummies(pd.cut(values, bins))"
      ]
    },
    {
      "cell_type": "code",
      "execution_count": null,
      "metadata": {
        "deletable": true,
        "editable": true,
        "id": "Hx0e78LdrQsJ"
      },
      "outputs": [],
      "source": [
        "val = 'a,b,  guido'\n",
        "val.split(',')"
      ]
    },
    {
      "cell_type": "code",
      "execution_count": null,
      "metadata": {
        "deletable": true,
        "editable": true,
        "id": "MWDCxT7MrQsJ"
      },
      "outputs": [],
      "source": [
        "pieces = [x.strip() for x in val.split(',')]\n",
        "pieces"
      ]
    },
    {
      "cell_type": "code",
      "execution_count": null,
      "metadata": {
        "deletable": true,
        "editable": true,
        "id": "Dn1Kwaj3rQsK"
      },
      "outputs": [],
      "source": [
        "first, second, third = pieces\n",
        "first + '::' + second + '::' + third"
      ]
    },
    {
      "cell_type": "code",
      "execution_count": null,
      "metadata": {
        "deletable": true,
        "editable": true,
        "id": "7IMj9qlFrQsK"
      },
      "outputs": [],
      "source": [
        "'::'.join(pieces)"
      ]
    },
    {
      "cell_type": "code",
      "execution_count": null,
      "metadata": {
        "deletable": true,
        "editable": true,
        "id": "fMocudMJrQsK"
      },
      "outputs": [],
      "source": [
        "'guido' in val\n",
        "val.index(',')\n",
        "val.find(':')"
      ]
    },
    {
      "cell_type": "code",
      "execution_count": null,
      "metadata": {
        "deletable": true,
        "editable": true,
        "id": "JlMkOuJErQsK"
      },
      "outputs": [],
      "source": [
        "val.index(':')"
      ]
    },
    {
      "cell_type": "code",
      "execution_count": null,
      "metadata": {
        "deletable": true,
        "editable": true,
        "id": "HgPb-DhOrQsK"
      },
      "outputs": [],
      "source": [
        "val.count(',')"
      ]
    },
    {
      "cell_type": "code",
      "execution_count": null,
      "metadata": {
        "deletable": true,
        "editable": true,
        "id": "LsfcX09yrQsK"
      },
      "outputs": [],
      "source": [
        "val.replace(',', '::')\n",
        "val.replace(',', '')"
      ]
    },
    {
      "cell_type": "code",
      "execution_count": null,
      "metadata": {
        "deletable": true,
        "editable": true,
        "id": "hoV54zI-rQsK"
      },
      "outputs": [],
      "source": [
        "import re\n",
        "text = \"foo    bar\\t baz  \\tqux\"\n",
        "re.split('\\s+', text)"
      ]
    },
    {
      "cell_type": "code",
      "execution_count": null,
      "metadata": {
        "deletable": true,
        "editable": true,
        "id": "Eb86YR9RrQsK"
      },
      "outputs": [],
      "source": [
        "regex = re.compile('\\s+')\n",
        "regex.split(text)"
      ]
    },
    {
      "cell_type": "code",
      "execution_count": null,
      "metadata": {
        "deletable": true,
        "editable": true,
        "id": "KU9nsILjrQsL"
      },
      "outputs": [],
      "source": [
        "regex.findall(text)"
      ]
    },
    {
      "cell_type": "code",
      "execution_count": null,
      "metadata": {
        "deletable": true,
        "editable": true,
        "id": "qYCFM9ZbrQsL"
      },
      "outputs": [],
      "source": [
        "text = \"\"\"Dave dave@google.com\n",
        "Steve steve@gmail.com\n",
        "Rob rob@gmail.com\n",
        "Ryan ryan@yahoo.com\n",
        "\"\"\"\n",
        "pattern = r'[A-Z0-9._%+-]+@[A-Z0-9.-]+\\.[A-Z]{2,4}'\n",
        "\n",
        "# re.IGNORECASE makes the regex case-insensitive\n",
        "regex = re.compile(pattern, flags=re.IGNORECASE)"
      ]
    },
    {
      "cell_type": "code",
      "execution_count": null,
      "metadata": {
        "deletable": true,
        "editable": true,
        "id": "8wyKzL3hrQsL"
      },
      "outputs": [],
      "source": [
        "regex.findall(text)"
      ]
    },
    {
      "cell_type": "code",
      "execution_count": null,
      "metadata": {
        "deletable": true,
        "editable": true,
        "id": "TVyigkLHrQsL"
      },
      "outputs": [],
      "source": [
        "m = regex.search(text)\n",
        "m\n",
        "text[m.start():m.end()]"
      ]
    },
    {
      "cell_type": "code",
      "execution_count": null,
      "metadata": {
        "deletable": true,
        "editable": true,
        "id": "HJTZJAe-rQsL"
      },
      "outputs": [],
      "source": [
        "print(regex.match(text))"
      ]
    },
    {
      "cell_type": "code",
      "execution_count": null,
      "metadata": {
        "deletable": true,
        "editable": true,
        "id": "RxUz-6a8rQsL"
      },
      "outputs": [],
      "source": [
        "print(regex.sub('REDACTED', text))"
      ]
    },
    {
      "cell_type": "code",
      "execution_count": null,
      "metadata": {
        "deletable": true,
        "editable": true,
        "id": "9JBYdvyjrQsL"
      },
      "outputs": [],
      "source": [
        "pattern = r'([A-Z0-9._%+-]+)@([A-Z0-9.-]+)\\.([A-Z]{2,4})'\n",
        "regex = re.compile(pattern, flags=re.IGNORECASE)"
      ]
    },
    {
      "cell_type": "code",
      "execution_count": null,
      "metadata": {
        "deletable": true,
        "editable": true,
        "id": "I5QAXYaorQsL"
      },
      "outputs": [],
      "source": [
        "m = regex.match('wesm@bright.net')\n",
        "m.groups()"
      ]
    },
    {
      "cell_type": "code",
      "execution_count": null,
      "metadata": {
        "deletable": true,
        "editable": true,
        "id": "oAWT8rIhrQsL"
      },
      "outputs": [],
      "source": [
        "regex.findall(text)"
      ]
    },
    {
      "cell_type": "code",
      "execution_count": null,
      "metadata": {
        "deletable": true,
        "editable": true,
        "id": "1Eho932rrQsL"
      },
      "outputs": [],
      "source": [
        "print(regex.sub(r'Username: \\1, Domain: \\2, Suffix: \\3', text))"
      ]
    },
    {
      "cell_type": "code",
      "execution_count": null,
      "metadata": {
        "deletable": true,
        "editable": true,
        "id": "hSStdZ6ZrQsM"
      },
      "outputs": [],
      "source": [
        "data = {'Dave': 'dave@google.com', 'Steve': 'steve@gmail.com',\n",
        "        'Rob': 'rob@gmail.com', 'Wes': np.nan}\n",
        "data = pd.Series(data)\n",
        "data\n",
        "data.isnull()"
      ]
    },
    {
      "cell_type": "code",
      "execution_count": null,
      "metadata": {
        "deletable": true,
        "editable": true,
        "id": "fdSNZcrirQsM"
      },
      "outputs": [],
      "source": [
        "data.str.contains('gmail')"
      ]
    },
    {
      "cell_type": "code",
      "execution_count": null,
      "metadata": {
        "deletable": true,
        "editable": true,
        "id": "KOVs9xZvrQsM"
      },
      "outputs": [],
      "source": [
        "pattern\n",
        "data.str.findall(pattern, flags=re.IGNORECASE)"
      ]
    },
    {
      "cell_type": "code",
      "execution_count": null,
      "metadata": {
        "deletable": true,
        "editable": true,
        "id": "bkMExnz6rQsM"
      },
      "outputs": [],
      "source": [
        "matches = data.str.match(pattern, flags=re.IGNORECASE)\n",
        "matches"
      ]
    },
    {
      "cell_type": "code",
      "execution_count": null,
      "metadata": {
        "deletable": true,
        "editable": true,
        "id": "OKLQIoNHrQsM"
      },
      "outputs": [],
      "source": [
        "matches.str.get(1)\n",
        "matches.str[0]"
      ]
    },
    {
      "cell_type": "code",
      "execution_count": null,
      "metadata": {
        "deletable": true,
        "editable": true,
        "id": "qBxElQbRrQsM"
      },
      "outputs": [],
      "source": [
        "data.str[:5]"
      ]
    },
    {
      "cell_type": "code",
      "execution_count": null,
      "metadata": {
        "deletable": true,
        "editable": true,
        "id": "_wcPqbdcrQsM"
      },
      "outputs": [],
      "source": [
        "pd.options.display.max_rows = PREVIOUS_MAX_ROWS"
      ]
    }
  ],
  "metadata": {
    "kernelspec": {
      "display_name": "Python 3",
      "language": "python",
      "name": "python3"
    },
    "language_info": {
      "codemirror_mode": {
        "name": "ipython",
        "version": 3
      },
      "file_extension": ".py",
      "mimetype": "text/x-python",
      "name": "python",
      "nbconvert_exporter": "python",
      "pygments_lexer": "ipython3",
      "version": "3.6.0"
    },
    "colab": {
      "name": "CleaningPreparation.ipynb",
      "provenance": []
    }
  },
  "nbformat": 4,
  "nbformat_minor": 0
}