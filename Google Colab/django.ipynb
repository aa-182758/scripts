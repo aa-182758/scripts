{
  "nbformat": 4,
  "nbformat_minor": 0,
  "metadata": {
    "colab": {
      "name": "django.ipynb",
      "provenance": []
    },
    "kernelspec": {
      "name": "python3",
      "display_name": "Python 3"
    },
    "language_info": {
      "name": "python"
    }
  },
  "cells": [
    {
      "cell_type": "code",
      "source": [
        "from google.colab.output import eval_js\n",
        "print(eval_js(\"google.colab.kernel.proxyPort(8000)\"))"
      ],
      "metadata": {
        "colab": {
          "base_uri": "https://localhost:8080/",
          "height": 34
        },
        "id": "tvxdVM-Va19d",
        "outputId": "a20ae34f-f775-462a-c591-36e88a896155"
      },
      "execution_count": 41,
      "outputs": [
        {
          "output_type": "stream",
          "name": "stdout",
          "text": [
            "https://dcwh573xaw5-496ff2e9c6d22116-8000-colab.googleusercontent.com/\n"
          ]
        }
      ]
    },
    {
      "cell_type": "code",
      "execution_count": 1,
      "metadata": {
        "colab": {
          "base_uri": "https://localhost:8080/"
        },
        "id": "_jTqwqhZZITh",
        "outputId": "5229c2cb-11d1-4ba0-cf1c-2ce8dc985c61"
      },
      "outputs": [
        {
          "output_type": "stream",
          "name": "stdout",
          "text": [
            "Collecting django\n",
            "  Downloading Django-3.2.12-py3-none-any.whl (7.9 MB)\n",
            "\u001b[K     |████████████████████████████████| 7.9 MB 22.9 MB/s \n",
            "\u001b[?25hRequirement already satisfied: pytz in /usr/local/lib/python3.7/dist-packages (from django) (2018.9)\n",
            "Collecting asgiref<4,>=3.3.2\n",
            "  Downloading asgiref-3.5.0-py3-none-any.whl (22 kB)\n",
            "Requirement already satisfied: sqlparse>=0.2.2 in /usr/local/lib/python3.7/dist-packages (from django) (0.4.2)\n",
            "Requirement already satisfied: typing-extensions in /usr/local/lib/python3.7/dist-packages (from asgiref<4,>=3.3.2->django) (3.10.0.2)\n",
            "Installing collected packages: asgiref, django\n",
            "Successfully installed asgiref-3.5.0 django-3.2.12\n"
          ]
        }
      ],
      "source": [
        "!pip install django"
      ]
    },
    {
      "cell_type": "code",
      "source": [
        "!python -m django --version"
      ],
      "metadata": {
        "colab": {
          "base_uri": "https://localhost:8080/"
        },
        "id": "yQseiapiZPfK",
        "outputId": "eb6cda9b-a242-4962-f5f0-d991171185a5"
      },
      "execution_count": 3,
      "outputs": [
        {
          "output_type": "stream",
          "name": "stdout",
          "text": [
            "3.2.12\n"
          ]
        }
      ]
    },
    {
      "cell_type": "code",
      "source": [
        "!django-admin startproject mysite\n"
      ],
      "metadata": {
        "id": "TGuq3k4wZiO2"
      },
      "execution_count": 4,
      "outputs": []
    },
    {
      "cell_type": "code",
      "source": [
        " !python /content/mysite/manage.py runserver 8000"
      ],
      "metadata": {
        "colab": {
          "base_uri": "https://localhost:8080/"
        },
        "id": "ECv1tu7jZ4Le",
        "outputId": "55738185-dc93-4a97-eb70-d7e6b415ac1b"
      },
      "execution_count": null,
      "outputs": [
        {
          "output_type": "stream",
          "name": "stdout",
          "text": [
            "Watching for file changes with StatReloader\n",
            "Performing system checks...\n",
            "\n",
            "System check identified no issues (0 silenced).\n",
            "\u001b[31m\n",
            "You have 18 unapplied migration(s). Your project may not work properly until you apply the migrations for app(s): admin, auth, contenttypes, sessions.\u001b[0m\n",
            "\u001b[31mRun 'python manage.py migrate' to apply them.\u001b[0m\n",
            "March 07, 2022 - 19:02:08\n",
            "Django version 3.2.12, using settings 'mysite.settings'\n",
            "Starting development server at http://127.0.0.1:8000/\n",
            "Quit the server with CONTROL-C.\n",
            "[07/Mar/2022 19:02:11] \u001b[m\"GET / HTTP/1.1\" 200 10697\u001b[0m\n",
            "[07/Mar/2022 19:02:11] \u001b[m\"GET /static/admin/css/fonts.css HTTP/1.1\" 200 423\u001b[0m\n",
            "[07/Mar/2022 19:02:12] \u001b[m\"GET /static/admin/fonts/Roboto-Bold-webfont.woff HTTP/1.1\" 200 86184\u001b[0m\n",
            "[07/Mar/2022 19:02:12] \u001b[m\"GET /static/admin/fonts/Roboto-Regular-webfont.woff HTTP/1.1\" 200 85876\u001b[0m\n",
            "Not Found: /favicon.ico\n",
            "[07/Mar/2022 19:02:12] \u001b[33m\"GET /favicon.ico HTTP/1.1\" 404 2121\u001b[0m\n",
            "[07/Mar/2022 19:02:12] \u001b[m\"GET /static/admin/fonts/Roboto-Light-webfont.woff HTTP/1.1\" 200 85692\u001b[0m\n",
            "[07/Mar/2022 19:02:54] \u001b[m\"GET / HTTP/1.1\" 200 10697\u001b[0m\n",
            "[07/Mar/2022 19:02:55] \u001b[m\"GET /static/admin/css/fonts.css HTTP/1.1\" 200 423\u001b[0m\n",
            "[07/Mar/2022 19:02:55] \u001b[m\"GET /static/admin/fonts/Roboto-Bold-webfont.woff HTTP/1.1\" 200 86184\u001b[0m\n",
            "[07/Mar/2022 19:02:55] \u001b[m\"GET /static/admin/fonts/Roboto-Regular-webfont.woff HTTP/1.1\" 200 85876\u001b[0m\n",
            "[07/Mar/2022 19:02:55] \u001b[m\"GET /static/admin/fonts/Roboto-Light-webfont.woff HTTP/1.1\" 200 85692\u001b[0m\n",
            "Not Found: /favicon.ico\n",
            "[07/Mar/2022 19:02:56] \u001b[33m\"GET /favicon.ico HTTP/1.1\" 404 2121\u001b[0m\n",
            "[07/Mar/2022 19:03:04] \u001b[m\"GET / HTTP/1.1\" 200 10697\u001b[0m\n",
            "[07/Mar/2022 19:03:04] \u001b[m\"GET /static/admin/css/fonts.css HTTP/1.1\" 200 423\u001b[0m\n",
            "[07/Mar/2022 19:03:04] \u001b[m\"GET /static/admin/fonts/Roboto-Bold-webfont.woff HTTP/1.1\" 200 86184\u001b[0m\n",
            "[07/Mar/2022 19:03:04] \u001b[m\"GET /static/admin/fonts/Roboto-Light-webfont.woff HTTP/1.1\" 200 85692\u001b[0m\n",
            "[07/Mar/2022 19:03:04] \u001b[m\"GET /static/admin/fonts/Roboto-Regular-webfont.woff HTTP/1.1\" 200 85876\u001b[0m\n",
            "Not Found: /favicon.ico\n",
            "[07/Mar/2022 19:03:05] \u001b[33m\"GET /favicon.ico HTTP/1.1\" 404 2121\u001b[0m\n",
            "Not Found: /polls/\n",
            "[07/Mar/2022 19:03:09] \u001b[33m\"GET /polls/ HTTP/1.1\" 404 2106\u001b[0m\n",
            "Not Found: /polls/\n",
            "[07/Mar/2022 19:03:11] \u001b[33m\"GET /polls/ HTTP/1.1\" 404 2106\u001b[0m\n",
            "[07/Mar/2022 19:03:28] \u001b[m\"GET / HTTP/1.1\" 200 10697\u001b[0m\n",
            "[07/Mar/2022 19:03:29] \u001b[m\"GET /static/admin/css/fonts.css HTTP/1.1\" 200 423\u001b[0m\n",
            "[07/Mar/2022 19:03:29] \u001b[m\"GET /static/admin/fonts/Roboto-Bold-webfont.woff HTTP/1.1\" 200 86184\u001b[0m\n",
            "[07/Mar/2022 19:03:29] \u001b[m\"GET /static/admin/fonts/Roboto-Light-webfont.woff HTTP/1.1\" 200 85692\u001b[0m\n",
            "[07/Mar/2022 19:03:29] \u001b[m\"GET /static/admin/fonts/Roboto-Regular-webfont.woff HTTP/1.1\" 200 85876\u001b[0m\n",
            "Not Found: /favicon.ico\n",
            "[07/Mar/2022 19:03:29] \u001b[33m\"GET /favicon.ico HTTP/1.1\" 404 2121\u001b[0m\n",
            "[07/Mar/2022 19:06:31] \u001b[m\"GET / HTTP/1.1\" 200 10697\u001b[0m\n",
            "[07/Mar/2022 19:06:31] \u001b[m\"GET /static/admin/css/fonts.css HTTP/1.1\" 200 423\u001b[0m\n",
            "[07/Mar/2022 19:06:31] \u001b[m\"GET /static/admin/fonts/Roboto-Bold-webfont.woff HTTP/1.1\" 200 86184\u001b[0m\n",
            "[07/Mar/2022 19:06:32] \u001b[m\"GET /static/admin/fonts/Roboto-Light-webfont.woff HTTP/1.1\" 200 85692\u001b[0m\n",
            "[07/Mar/2022 19:06:32] \u001b[m\"GET /static/admin/fonts/Roboto-Regular-webfont.woff HTTP/1.1\" 200 85876\u001b[0m\n",
            "Not Found: /favicon.ico\n",
            "[07/Mar/2022 19:06:32] \u001b[33m\"GET /favicon.ico HTTP/1.1\" 404 2121\u001b[0m\n",
            "Not Found: /polls/\n",
            "[07/Mar/2022 19:06:46] \u001b[33m\"GET /polls/ HTTP/1.1\" 404 2106\u001b[0m\n",
            "Not Found: /polls/\n",
            "[07/Mar/2022 19:06:47] \u001b[33m\"GET /polls/ HTTP/1.1\" 404 2106\u001b[0m\n",
            "[07/Mar/2022 19:13:12] \u001b[m\"GET / HTTP/1.1\" 200 10697\u001b[0m\n",
            "[07/Mar/2022 19:13:12] \u001b[m\"GET /static/admin/css/fonts.css HTTP/1.1\" 200 423\u001b[0m\n",
            "[07/Mar/2022 19:13:13] \u001b[m\"GET /static/admin/fonts/Roboto-Bold-webfont.woff HTTP/1.1\" 200 86184\u001b[0m\n",
            "[07/Mar/2022 19:13:13] \u001b[m\"GET /static/admin/fonts/Roboto-Light-webfont.woff HTTP/1.1\" 200 85692\u001b[0m\n",
            "[07/Mar/2022 19:13:13] \u001b[m\"GET /static/admin/fonts/Roboto-Regular-webfont.woff HTTP/1.1\" 200 85876\u001b[0m\n",
            "Not Found: /favicon.ico\n",
            "[07/Mar/2022 19:13:13] \u001b[33m\"GET /favicon.ico HTTP/1.1\" 404 2121\u001b[0m\n",
            "Not Found: /polls\n",
            "[07/Mar/2022 19:13:17] \u001b[33m\"GET /polls HTTP/1.1\" 404 2103\u001b[0m\n",
            "Not Found: /polls/\n",
            "[07/Mar/2022 19:13:51] \u001b[33m\"GET /polls/ HTTP/1.1\" 404 2106\u001b[0m\n",
            "Not Found: /polls/\n",
            "[07/Mar/2022 19:13:52] \u001b[33m\"GET /polls/ HTTP/1.1\" 404 2106\u001b[0m\n"
          ]
        }
      ]
    },
    {
      "cell_type": "code",
      "source": [
        "!python /content/mysite/manage.py startapp polls"
      ],
      "metadata": {
        "colab": {
          "base_uri": "https://localhost:8080/"
        },
        "id": "OckCYF-Cqcsx",
        "outputId": "e029c7b3-8db5-444a-853f-cdb5ed291067"
      },
      "execution_count": 19,
      "outputs": [
        {
          "output_type": "stream",
          "name": "stdout",
          "text": [
            "\u001b[31;1mCommandError: '/content/polls' already exists\n",
            "\u001b[0m"
          ]
        }
      ]
    }
  ]
}