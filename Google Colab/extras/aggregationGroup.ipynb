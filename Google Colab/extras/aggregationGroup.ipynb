{
  "cells": [
    {
      "cell_type": "code",
      "execution_count": null,
      "metadata": {
        "deletable": true,
        "editable": true,
        "id": "-RALPmvCsY4N"
      },
      "outputs": [],
      "source": [
        "import numpy as np\n",
        "import pandas as pd\n",
        "PREVIOUS_MAX_ROWS = pd.options.display.max_rows\n",
        "pd.options.display.max_rows = 20\n",
        "np.random.seed(12345)\n",
        "import matplotlib.pyplot as plt\n",
        "plt.rc('figure', figsize=(10, 6))\n",
        "np.set_printoptions(precision=4, suppress=True)"
      ]
    },
    {
      "cell_type": "code",
      "execution_count": null,
      "metadata": {
        "deletable": true,
        "editable": true,
        "id": "fANghp6NsY4O"
      },
      "outputs": [],
      "source": [
        "df = pd.DataFrame({'key1' : ['a', 'a', 'b', 'b', 'a'],\n",
        "                   'key2' : ['one', 'two', 'one', 'two', 'one'],\n",
        "                   'data1' : np.random.randn(5),\n",
        "                   'data2' : np.random.randn(5)})\n",
        "df"
      ]
    },
    {
      "cell_type": "code",
      "execution_count": null,
      "metadata": {
        "deletable": true,
        "editable": true,
        "id": "x4lqC3FQsY4P"
      },
      "outputs": [],
      "source": [
        "grouped = df['data1'].groupby(df['key1'])\n",
        "grouped"
      ]
    },
    {
      "cell_type": "code",
      "execution_count": null,
      "metadata": {
        "deletable": true,
        "editable": true,
        "id": "pfpsgAHNsY4P"
      },
      "outputs": [],
      "source": [
        "grouped.mean()"
      ]
    },
    {
      "cell_type": "code",
      "execution_count": null,
      "metadata": {
        "deletable": true,
        "editable": true,
        "id": "UR0t0ostsY4P"
      },
      "outputs": [],
      "source": [
        "means = df['data1'].groupby([df['key1'], df['key2']]).mean()\n",
        "means"
      ]
    },
    {
      "cell_type": "code",
      "execution_count": null,
      "metadata": {
        "deletable": true,
        "editable": true,
        "id": "xsY8Zx61sY4Q"
      },
      "outputs": [],
      "source": [
        "means.unstack()"
      ]
    },
    {
      "cell_type": "code",
      "execution_count": null,
      "metadata": {
        "deletable": true,
        "editable": true,
        "id": "NzEffMcQsY4Q"
      },
      "outputs": [],
      "source": [
        "states = np.array(['Ohio', 'California', 'California', 'Ohio', 'Ohio'])\n",
        "years = np.array([2005, 2005, 2006, 2005, 2006])\n",
        "df['data1'].groupby([states, years]).mean()"
      ]
    },
    {
      "cell_type": "code",
      "execution_count": null,
      "metadata": {
        "deletable": true,
        "editable": true,
        "id": "WwRtgiLYsY4R"
      },
      "outputs": [],
      "source": [
        "df.groupby('key1').mean()\n",
        "df.groupby(['key1', 'key2']).mean()"
      ]
    },
    {
      "cell_type": "code",
      "execution_count": null,
      "metadata": {
        "deletable": true,
        "editable": true,
        "id": "-UsydA6_sY4S"
      },
      "outputs": [],
      "source": [
        "df.groupby(['key1', 'key2']).size()"
      ]
    },
    {
      "cell_type": "code",
      "execution_count": null,
      "metadata": {
        "deletable": true,
        "editable": true,
        "id": "3j2anNXIsY4S"
      },
      "outputs": [],
      "source": [
        "for name, group in df.groupby('key1'):\n",
        "    print(name)\n",
        "    print(group)"
      ]
    },
    {
      "cell_type": "code",
      "execution_count": null,
      "metadata": {
        "deletable": true,
        "editable": true,
        "id": "vKuXE7QosY4T"
      },
      "outputs": [],
      "source": [
        "for (k1, k2), group in df.groupby(['key1', 'key2']):\n",
        "    print((k1, k2))\n",
        "    print(group)"
      ]
    },
    {
      "cell_type": "code",
      "execution_count": null,
      "metadata": {
        "deletable": true,
        "editable": true,
        "id": "pRXUMbISsY4T"
      },
      "outputs": [],
      "source": [
        "pieces = dict(list(df.groupby('key1')))\n",
        "pieces['b']"
      ]
    },
    {
      "cell_type": "code",
      "execution_count": null,
      "metadata": {
        "deletable": true,
        "editable": true,
        "id": "YrvqQ1BnsY4T"
      },
      "outputs": [],
      "source": [
        "df.dtypes\n",
        "grouped = df.groupby(df.dtypes, axis=1)"
      ]
    },
    {
      "cell_type": "code",
      "execution_count": null,
      "metadata": {
        "deletable": true,
        "editable": true,
        "id": "JRUJZM34sY4T"
      },
      "outputs": [],
      "source": [
        "for dtype, group in grouped:\n",
        "    print(dtype)\n",
        "    print(group)"
      ]
    },
    {
      "cell_type": "code",
      "execution_count": null,
      "metadata": {
        "deletable": true,
        "editable": true,
        "id": "Dyd549N2sY4U"
      },
      "outputs": [],
      "source": [
        "df.groupby(['key1', 'key2'])[['data2']].mean()"
      ]
    },
    {
      "cell_type": "code",
      "execution_count": null,
      "metadata": {
        "deletable": true,
        "editable": true,
        "id": "WztTkVVnsY4U"
      },
      "outputs": [],
      "source": [
        "s_grouped = df.groupby(['key1', 'key2'])['data2']\n",
        "s_grouped\n",
        "s_grouped.mean()"
      ]
    },
    {
      "cell_type": "code",
      "execution_count": null,
      "metadata": {
        "deletable": true,
        "editable": true,
        "id": "4tyYVNEBsY4U"
      },
      "outputs": [],
      "source": [
        "people = pd.DataFrame(np.random.randn(5, 5),\n",
        "                      columns=['a', 'b', 'c', 'd', 'e'],\n",
        "                      index=['Joe', 'Steve', 'Wes', 'Jim', 'Travis'])\n",
        "people.iloc[2:3, [1, 2]] = np.nan # Add a few NA values\n",
        "people"
      ]
    },
    {
      "cell_type": "code",
      "execution_count": null,
      "metadata": {
        "deletable": true,
        "editable": true,
        "id": "7wB7dYTMsY4V"
      },
      "outputs": [],
      "source": [
        "mapping = {'a': 'red', 'b': 'red', 'c': 'blue',\n",
        "           'd': 'blue', 'e': 'red', 'f' : 'orange'}"
      ]
    },
    {
      "cell_type": "code",
      "execution_count": null,
      "metadata": {
        "deletable": true,
        "editable": true,
        "id": "OYreeJClsY4V"
      },
      "outputs": [],
      "source": [
        "by_column = people.groupby(mapping, axis=1)\n",
        "by_column.sum()"
      ]
    },
    {
      "cell_type": "code",
      "execution_count": null,
      "metadata": {
        "deletable": true,
        "editable": true,
        "id": "mjSLixAxsY4V"
      },
      "outputs": [],
      "source": [
        "map_series = pd.Series(mapping)\n",
        "map_series\n",
        "people.groupby(map_series, axis=1).count()"
      ]
    },
    {
      "cell_type": "code",
      "execution_count": null,
      "metadata": {
        "deletable": true,
        "editable": true,
        "id": "_NS-Fx0OsY4V"
      },
      "outputs": [],
      "source": [
        "people.groupby(len).sum()"
      ]
    },
    {
      "cell_type": "code",
      "execution_count": null,
      "metadata": {
        "deletable": true,
        "editable": true,
        "id": "fHxFUNg2sY4V"
      },
      "outputs": [],
      "source": [
        "key_list = ['one', 'one', 'one', 'two', 'two']\n",
        "people.groupby([len, key_list]).min()"
      ]
    },
    {
      "cell_type": "code",
      "execution_count": null,
      "metadata": {
        "deletable": true,
        "editable": true,
        "id": "ebbHrsC3sY4W"
      },
      "outputs": [],
      "source": [
        "columns = pd.MultiIndex.from_arrays([['US', 'US', 'US', 'JP', 'JP'],\n",
        "                                    [1, 3, 5, 1, 3]],\n",
        "                                    names=['cty', 'tenor'])\n",
        "hier_df = pd.DataFrame(np.random.randn(4, 5), columns=columns)\n",
        "hier_df"
      ]
    },
    {
      "cell_type": "code",
      "execution_count": null,
      "metadata": {
        "deletable": true,
        "editable": true,
        "id": "C0VU0MZ8sY4W"
      },
      "outputs": [],
      "source": [
        "hier_df.groupby(level='cty', axis=1).count()"
      ]
    },
    {
      "cell_type": "code",
      "execution_count": null,
      "metadata": {
        "deletable": true,
        "editable": true,
        "id": "q3FCKAQHsY4W"
      },
      "outputs": [],
      "source": [
        "df\n",
        "grouped = df.groupby('key1')\n",
        "grouped['data1'].quantile(0.9)"
      ]
    },
    {
      "cell_type": "code",
      "execution_count": null,
      "metadata": {
        "deletable": true,
        "editable": true,
        "id": "vH0aEVqLsY4W"
      },
      "outputs": [],
      "source": [
        "def peak_to_peak(arr):\n",
        "    return arr.max() - arr.min()\n",
        "grouped.agg(peak_to_peak)"
      ]
    },
    {
      "cell_type": "code",
      "execution_count": null,
      "metadata": {
        "deletable": true,
        "editable": true,
        "id": "RX-ZoRFYsY4W"
      },
      "outputs": [],
      "source": [
        "grouped.describe()"
      ]
    },
    {
      "cell_type": "code",
      "execution_count": null,
      "metadata": {
        "deletable": true,
        "editable": true,
        "id": "q7r-Bq_BsY4X"
      },
      "outputs": [],
      "source": [
        "tips = pd.read_csv('examples/tips.csv')\n",
        "# Add tip percentage of total bill\n",
        "tips['tip_pct'] = tips['tip'] / tips['total_bill']\n",
        "tips[:6]"
      ]
    },
    {
      "cell_type": "code",
      "execution_count": null,
      "metadata": {
        "deletable": true,
        "editable": true,
        "id": "ohb1cedusY4X"
      },
      "outputs": [],
      "source": [
        "grouped = tips.groupby(['day', 'smoker'])"
      ]
    },
    {
      "cell_type": "code",
      "execution_count": null,
      "metadata": {
        "deletable": true,
        "editable": true,
        "id": "q4x4w8bdsY4X"
      },
      "outputs": [],
      "source": [
        "grouped_pct = grouped['tip_pct']\n",
        "grouped_pct.agg('mean')"
      ]
    },
    {
      "cell_type": "code",
      "execution_count": null,
      "metadata": {
        "deletable": true,
        "editable": true,
        "id": "RdWRfnTtsY4X"
      },
      "outputs": [],
      "source": [
        "grouped_pct.agg(['mean', 'std', peak_to_peak])"
      ]
    },
    {
      "cell_type": "code",
      "execution_count": null,
      "metadata": {
        "deletable": true,
        "editable": true,
        "id": "Hiy92jcrsY4X"
      },
      "outputs": [],
      "source": [
        "grouped_pct.agg([('foo', 'mean'), ('bar', np.std)])"
      ]
    },
    {
      "cell_type": "code",
      "execution_count": null,
      "metadata": {
        "deletable": true,
        "editable": true,
        "id": "rKyzzKROsY4X"
      },
      "outputs": [],
      "source": [
        "functions = ['count', 'mean', 'max']\n",
        "result = grouped['tip_pct', 'total_bill'].agg(functions)\n",
        "result"
      ]
    },
    {
      "cell_type": "code",
      "execution_count": null,
      "metadata": {
        "deletable": true,
        "editable": true,
        "id": "iPYZSGdosY4X"
      },
      "outputs": [],
      "source": [
        "result['tip_pct']"
      ]
    },
    {
      "cell_type": "code",
      "execution_count": null,
      "metadata": {
        "deletable": true,
        "editable": true,
        "id": "hBxjcgYFsY4X"
      },
      "outputs": [],
      "source": [
        "ftuples = [('Durchschnitt', 'mean'), ('Abweichung', np.var)]\n",
        "grouped['tip_pct', 'total_bill'].agg(ftuples)"
      ]
    },
    {
      "cell_type": "code",
      "execution_count": null,
      "metadata": {
        "deletable": true,
        "editable": true,
        "id": "SRYPDDFBsY4Y"
      },
      "outputs": [],
      "source": [
        "grouped.agg({'tip' : np.max, 'size' : 'sum'})\n",
        "grouped.agg({'tip_pct' : ['min', 'max', 'mean', 'std'],\n",
        "             'size' : 'sum'})"
      ]
    },
    {
      "cell_type": "code",
      "execution_count": null,
      "metadata": {
        "deletable": true,
        "editable": true,
        "id": "G4zUXkGMsY4Y"
      },
      "outputs": [],
      "source": [
        "tips.groupby(['day', 'smoker'], as_index=False).mean()"
      ]
    },
    {
      "cell_type": "code",
      "execution_count": null,
      "metadata": {
        "deletable": true,
        "editable": true,
        "id": "O_aN13yGsY4Y"
      },
      "outputs": [],
      "source": [
        "def top(df, n=5, column='tip_pct'):\n",
        "    return df.sort_values(by=column)[-n:]\n",
        "top(tips, n=6)"
      ]
    },
    {
      "cell_type": "code",
      "execution_count": null,
      "metadata": {
        "deletable": true,
        "editable": true,
        "id": "ZScmmj9asY4Z"
      },
      "outputs": [],
      "source": [
        "tips.groupby('smoker').apply(top)"
      ]
    },
    {
      "cell_type": "code",
      "execution_count": null,
      "metadata": {
        "deletable": true,
        "editable": true,
        "id": "3d3MDaqssY4Z"
      },
      "outputs": [],
      "source": [
        "tips.groupby(['smoker', 'day']).apply(top, n=1, column='total_bill')"
      ]
    },
    {
      "cell_type": "code",
      "execution_count": null,
      "metadata": {
        "deletable": true,
        "editable": true,
        "id": "y8I02T6CsY4Z"
      },
      "outputs": [],
      "source": [
        "result = tips.groupby('smoker')['tip_pct'].describe()\n",
        "result\n",
        "result.unstack('smoker')"
      ]
    },
    {
      "cell_type": "code",
      "execution_count": null,
      "metadata": {
        "deletable": true,
        "editable": true,
        "id": "on7KHOD2sY4Z"
      },
      "outputs": [],
      "source": [
        "tips.groupby('smoker', group_keys=False).apply(top)"
      ]
    },
    {
      "cell_type": "code",
      "execution_count": null,
      "metadata": {
        "deletable": true,
        "editable": true,
        "id": "dtd7WVzSsY4a"
      },
      "outputs": [],
      "source": [
        "frame = pd.DataFrame({'data1': np.random.randn(1000),\n",
        "                      'data2': np.random.randn(1000)})\n",
        "quartiles = pd.cut(frame.data1, 4)\n",
        "quartiles[:10]"
      ]
    },
    {
      "cell_type": "code",
      "execution_count": null,
      "metadata": {
        "deletable": true,
        "editable": true,
        "id": "_h3PjOpvsY4a"
      },
      "outputs": [],
      "source": [
        "def get_stats(group):\n",
        "    return {'min': group.min(), 'max': group.max(),\n",
        "            'count': group.count(), 'mean': group.mean()}\n",
        "grouped = frame.data2.groupby(quartiles)\n",
        "grouped.apply(get_stats).unstack()"
      ]
    },
    {
      "cell_type": "code",
      "execution_count": null,
      "metadata": {
        "deletable": true,
        "editable": true,
        "id": "eSFO8tbOsY4a"
      },
      "outputs": [],
      "source": [
        "# Return quantile numbers\n",
        "grouping = pd.qcut(frame.data1, 10, labels=False)\n",
        "grouped = frame.data2.groupby(grouping)\n",
        "grouped.apply(get_stats).unstack()"
      ]
    },
    {
      "cell_type": "code",
      "execution_count": null,
      "metadata": {
        "deletable": true,
        "editable": true,
        "id": "AiaBz8iisY4a"
      },
      "outputs": [],
      "source": [
        "s = pd.Series(np.random.randn(6))\n",
        "s[::2] = np.nan\n",
        "s\n",
        "s.fillna(s.mean())"
      ]
    },
    {
      "cell_type": "code",
      "execution_count": null,
      "metadata": {
        "deletable": true,
        "editable": true,
        "id": "pzJXV53OsY4a"
      },
      "outputs": [],
      "source": [
        "states = ['Ohio', 'New York', 'Vermont', 'Florida',\n",
        "          'Oregon', 'Nevada', 'California', 'Idaho']\n",
        "group_key = ['East'] * 4 + ['West'] * 4\n",
        "data = pd.Series(np.random.randn(8), index=states)\n",
        "data"
      ]
    },
    {
      "cell_type": "code",
      "execution_count": null,
      "metadata": {
        "deletable": true,
        "editable": true,
        "id": "B1pptPoEsY4a"
      },
      "outputs": [],
      "source": [
        "data[['Vermont', 'Nevada', 'Idaho']] = np.nan\n",
        "data\n",
        "data.groupby(group_key).mean()"
      ]
    },
    {
      "cell_type": "code",
      "execution_count": null,
      "metadata": {
        "deletable": true,
        "editable": true,
        "id": "pTjmMhl7sY4a"
      },
      "outputs": [],
      "source": [
        "fill_mean = lambda g: g.fillna(g.mean())\n",
        "data.groupby(group_key).apply(fill_mean)"
      ]
    },
    {
      "cell_type": "code",
      "execution_count": null,
      "metadata": {
        "deletable": true,
        "editable": true,
        "id": "ihpQ05nxsY4b"
      },
      "outputs": [],
      "source": [
        "fill_values = {'East': 0.5, 'West': -1}\n",
        "fill_func = lambda g: g.fillna(fill_values[g.name])\n",
        "data.groupby(group_key).apply(fill_func)"
      ]
    },
    {
      "cell_type": "code",
      "execution_count": null,
      "metadata": {
        "deletable": true,
        "editable": true,
        "id": "oVavHZBhsY4b"
      },
      "outputs": [],
      "source": [
        "# Hearts, Spades, Clubs, Diamonds\n",
        "suits = ['H', 'S', 'C', 'D']\n",
        "card_val = (list(range(1, 11)) + [10] * 3) * 4\n",
        "base_names = ['A'] + list(range(2, 11)) + ['J', 'K', 'Q']\n",
        "cards = []\n",
        "for suit in ['H', 'S', 'C', 'D']:\n",
        "    cards.extend(str(num) + suit for num in base_names)\n",
        "\n",
        "deck = pd.Series(card_val, index=cards)"
      ]
    },
    {
      "cell_type": "code",
      "execution_count": null,
      "metadata": {
        "deletable": true,
        "editable": true,
        "id": "nOxObInGsY4b"
      },
      "outputs": [],
      "source": [
        "deck[:13]"
      ]
    },
    {
      "cell_type": "code",
      "execution_count": null,
      "metadata": {
        "deletable": true,
        "editable": true,
        "id": "PMuPFagEsY4b"
      },
      "outputs": [],
      "source": [
        "def draw(deck, n=5):\n",
        "    return deck.sample(n)\n",
        "draw(deck)"
      ]
    },
    {
      "cell_type": "code",
      "execution_count": null,
      "metadata": {
        "deletable": true,
        "editable": true,
        "id": "cEmDOX8PsY4b"
      },
      "outputs": [],
      "source": [
        "get_suit = lambda card: card[-1] # last letter is suit\n",
        "deck.groupby(get_suit).apply(draw, n=2)"
      ]
    },
    {
      "cell_type": "code",
      "execution_count": null,
      "metadata": {
        "deletable": true,
        "editable": true,
        "id": "hKpK1pM1sY4b"
      },
      "outputs": [],
      "source": [
        "deck.groupby(get_suit, group_keys=False).apply(draw, n=2)"
      ]
    },
    {
      "cell_type": "code",
      "execution_count": null,
      "metadata": {
        "deletable": true,
        "editable": true,
        "id": "8Frbwh_9sY4b"
      },
      "outputs": [],
      "source": [
        "df = pd.DataFrame({'category': ['a', 'a', 'a', 'a',\n",
        "                                'b', 'b', 'b', 'b'],\n",
        "                   'data': np.random.randn(8),\n",
        "                   'weights': np.random.rand(8)})\n",
        "df"
      ]
    },
    {
      "cell_type": "code",
      "execution_count": null,
      "metadata": {
        "deletable": true,
        "editable": true,
        "id": "ufsk1_NxsY4c"
      },
      "outputs": [],
      "source": [
        "grouped = df.groupby('category')\n",
        "get_wavg = lambda g: np.average(g['data'], weights=g['weights'])\n",
        "grouped.apply(get_wavg)"
      ]
    },
    {
      "cell_type": "code",
      "execution_count": null,
      "metadata": {
        "deletable": true,
        "editable": true,
        "id": "HsLOhS8ksY4c"
      },
      "outputs": [],
      "source": [
        "close_px = pd.read_csv('examples/stock_px_2.csv', parse_dates=True,\n",
        "                       index_col=0)\n",
        "close_px.info()\n",
        "close_px[-4:]"
      ]
    },
    {
      "cell_type": "code",
      "execution_count": null,
      "metadata": {
        "deletable": true,
        "editable": true,
        "id": "KzYUuDu7sY4c"
      },
      "outputs": [],
      "source": [
        "spx_corr = lambda x: x.corrwith(x['SPX'])"
      ]
    },
    {
      "cell_type": "code",
      "execution_count": null,
      "metadata": {
        "deletable": true,
        "editable": true,
        "id": "TJ3W7QLtsY4c"
      },
      "outputs": [],
      "source": [
        "rets = close_px.pct_change().dropna()"
      ]
    },
    {
      "cell_type": "code",
      "execution_count": null,
      "metadata": {
        "deletable": true,
        "editable": true,
        "id": "oQsCSx4HsY4c"
      },
      "outputs": [],
      "source": [
        "get_year = lambda x: x.year\n",
        "by_year = rets.groupby(get_year)\n",
        "by_year.apply(spx_corr)"
      ]
    },
    {
      "cell_type": "code",
      "execution_count": null,
      "metadata": {
        "deletable": true,
        "editable": true,
        "id": "tNHMcBLRsY4c"
      },
      "outputs": [],
      "source": [
        "by_year.apply(lambda g: g['AAPL'].corr(g['MSFT']))"
      ]
    },
    {
      "cell_type": "code",
      "execution_count": null,
      "metadata": {
        "deletable": true,
        "editable": true,
        "id": "1fBdZTc_sY4c"
      },
      "outputs": [],
      "source": [
        "import statsmodels.api as sm\n",
        "def regress(data, yvar, xvars):\n",
        "    Y = data[yvar]\n",
        "    X = data[xvars]\n",
        "    X['intercept'] = 1.\n",
        "    result = sm.OLS(Y, X).fit()\n",
        "    return result.params"
      ]
    },
    {
      "cell_type": "code",
      "execution_count": null,
      "metadata": {
        "deletable": true,
        "editable": true,
        "id": "LzApi00jsY4c"
      },
      "outputs": [],
      "source": [
        "by_year.apply(regress, 'AAPL', ['SPX'])"
      ]
    },
    {
      "cell_type": "code",
      "execution_count": null,
      "metadata": {
        "deletable": true,
        "editable": true,
        "id": "3uE2p9ktsY4d"
      },
      "outputs": [],
      "source": [
        "tips.pivot_table(index=['day', 'smoker'])"
      ]
    },
    {
      "cell_type": "code",
      "execution_count": null,
      "metadata": {
        "deletable": true,
        "editable": true,
        "id": "j7KZMog-sY4d"
      },
      "outputs": [],
      "source": [
        "tips.pivot_table(['tip_pct', 'size'], index=['time', 'day'],\n",
        "                 columns='smoker')"
      ]
    },
    {
      "cell_type": "code",
      "execution_count": null,
      "metadata": {
        "deletable": true,
        "editable": true,
        "id": "WeVe0gEpsY4d"
      },
      "outputs": [],
      "source": [
        "tips.pivot_table(['tip_pct', 'size'], index=['time', 'day'],\n",
        "                 columns='smoker', margins=True)"
      ]
    },
    {
      "cell_type": "code",
      "execution_count": null,
      "metadata": {
        "deletable": true,
        "editable": true,
        "id": "JNUZAoXMsY4d"
      },
      "outputs": [],
      "source": [
        "tips.pivot_table('tip_pct', index=['time', 'smoker'], columns='day',\n",
        "                 aggfunc=len, margins=True)"
      ]
    },
    {
      "cell_type": "code",
      "execution_count": null,
      "metadata": {
        "deletable": true,
        "editable": true,
        "id": "eVOvIza1sY4d"
      },
      "outputs": [],
      "source": [
        "tips.pivot_table('tip_pct', index=['time', 'size', 'smoker'],\n",
        "                 columns='day', aggfunc='mean', fill_value=0)"
      ]
    },
    {
      "cell_type": "code",
      "execution_count": null,
      "metadata": {
        "deletable": true,
        "editable": true,
        "id": "muTTMSCzsY4d"
      },
      "outputs": [],
      "source": [
        "from io import StringIO\n",
        "data = \"\"\"\\\n",
        "Sample  Nationality  Handedness\n",
        "1   USA  Right-handed\n",
        "2   Japan    Left-handed\n",
        "3   USA  Right-handed\n",
        "4   Japan    Right-handed\n",
        "5   Japan    Left-handed\n",
        "6   Japan    Right-handed\n",
        "7   USA  Right-handed\n",
        "8   USA  Left-handed\n",
        "9   Japan    Right-handed\n",
        "10  USA  Right-handed\"\"\"\n",
        "data = pd.read_table(StringIO(data), sep='\\s+')"
      ]
    },
    {
      "cell_type": "code",
      "execution_count": null,
      "metadata": {
        "deletable": true,
        "editable": true,
        "id": "y9qxh0BlsY4d"
      },
      "outputs": [],
      "source": [
        "data"
      ]
    },
    {
      "cell_type": "code",
      "execution_count": null,
      "metadata": {
        "deletable": true,
        "editable": true,
        "id": "OG_kxYx2sY4e"
      },
      "outputs": [],
      "source": [
        "pd.crosstab(data.Nationality, data.Handedness, margins=True)"
      ]
    },
    {
      "cell_type": "code",
      "execution_count": null,
      "metadata": {
        "deletable": true,
        "editable": true,
        "id": "XYMC80xmsY4e"
      },
      "outputs": [],
      "source": [
        "pd.crosstab([tips.time, tips.day], tips.smoker, margins=True)"
      ]
    },
    {
      "cell_type": "code",
      "execution_count": null,
      "metadata": {
        "deletable": true,
        "editable": true,
        "id": "8PazuSAHsY4e"
      },
      "outputs": [],
      "source": [
        "pd.options.display.max_rows = PREVIOUS_MAX_ROWS"
      ]
    }
  ],
  "metadata": {
    "kernelspec": {
      "display_name": "Python 3",
      "language": "python",
      "name": "python3"
    },
    "language_info": {
      "codemirror_mode": {
        "name": "ipython",
        "version": 3
      },
      "file_extension": ".py",
      "mimetype": "text/x-python",
      "name": "python",
      "nbconvert_exporter": "python",
      "pygments_lexer": "ipython3",
      "version": "3.6.0"
    },
    "colab": {
      "name": "aggregationGroup.ipynb",
      "provenance": []
    }
  },
  "nbformat": 4,
  "nbformat_minor": 0
}