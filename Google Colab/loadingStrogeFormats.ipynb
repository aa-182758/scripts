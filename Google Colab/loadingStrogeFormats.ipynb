{
  "cells": [
    {
      "cell_type": "code",
      "execution_count": null,
      "metadata": {
        "deletable": true,
        "editable": true,
        "id": "ytXbxeUUq0Lu"
      },
      "outputs": [],
      "source": [
        "import numpy as np\n",
        "import pandas as pd\n",
        "np.random.seed(12345)\n",
        "import matplotlib.pyplot as plt\n",
        "plt.rc('figure', figsize=(10, 6))\n",
        "np.set_printoptions(precision=4, suppress=True)"
      ]
    },
    {
      "cell_type": "code",
      "execution_count": null,
      "metadata": {
        "deletable": true,
        "editable": true,
        "id": "pgfRgpAeq0Lv"
      },
      "outputs": [],
      "source": [
        "!cat examples/ex1.csv"
      ]
    },
    {
      "cell_type": "code",
      "execution_count": null,
      "metadata": {
        "deletable": true,
        "editable": true,
        "id": "s0Fy5XKbq0Lw"
      },
      "outputs": [],
      "source": [
        "df = pd.read_csv('examples/ex1.csv')\n",
        "df"
      ]
    },
    {
      "cell_type": "code",
      "execution_count": null,
      "metadata": {
        "deletable": true,
        "editable": true,
        "id": "MYB3m760q0Lw"
      },
      "outputs": [],
      "source": [
        "pd.read_table('examples/ex1.csv', sep=',')"
      ]
    },
    {
      "cell_type": "code",
      "execution_count": null,
      "metadata": {
        "deletable": true,
        "editable": true,
        "id": "LB0QBV6qq0Lw"
      },
      "outputs": [],
      "source": [
        "!cat examples/ex2.csv"
      ]
    },
    {
      "cell_type": "code",
      "execution_count": null,
      "metadata": {
        "deletable": true,
        "editable": true,
        "id": "P613CbuNq0Lx"
      },
      "outputs": [],
      "source": [
        "pd.read_csv('examples/ex2.csv', header=None)\n",
        "pd.read_csv('examples/ex2.csv', names=['a', 'b', 'c', 'd', 'message'])"
      ]
    },
    {
      "cell_type": "code",
      "execution_count": null,
      "metadata": {
        "deletable": true,
        "editable": true,
        "id": "7ZO3gSAjq0Lx"
      },
      "outputs": [],
      "source": [
        "names = ['a', 'b', 'c', 'd', 'message']\n",
        "pd.read_csv('examples/ex2.csv', names=names, index_col='message')"
      ]
    },
    {
      "cell_type": "code",
      "execution_count": null,
      "metadata": {
        "deletable": true,
        "editable": true,
        "id": "7YrMCvgLq0Ly"
      },
      "outputs": [],
      "source": [
        "!cat examples/csv_mindex.csv\n",
        "parsed = pd.read_csv('examples/csv_mindex.csv',\n",
        "                     index_col=['key1', 'key2'])\n",
        "parsed"
      ]
    },
    {
      "cell_type": "code",
      "execution_count": null,
      "metadata": {
        "deletable": true,
        "editable": true,
        "id": "I9JICoOtq0Ly"
      },
      "outputs": [],
      "source": [
        "list(open('examples/ex3.txt'))"
      ]
    },
    {
      "cell_type": "code",
      "execution_count": null,
      "metadata": {
        "deletable": true,
        "editable": true,
        "id": "GnXV79biq0Ly"
      },
      "outputs": [],
      "source": [
        "result = pd.read_table('examples/ex3.txt', sep='\\s+')\n",
        "result"
      ]
    },
    {
      "cell_type": "code",
      "execution_count": null,
      "metadata": {
        "deletable": true,
        "editable": true,
        "id": "HGwylNL5q0Lz"
      },
      "outputs": [],
      "source": [
        "!cat examples/ex4.csv\n",
        "pd.read_csv('examples/ex4.csv', skiprows=[0, 2, 3])"
      ]
    },
    {
      "cell_type": "code",
      "execution_count": null,
      "metadata": {
        "deletable": true,
        "editable": true,
        "id": "AFzNFJljq0Lz"
      },
      "outputs": [],
      "source": [
        "!cat examples/ex5.csv\n",
        "result = pd.read_csv('examples/ex5.csv')\n",
        "result\n",
        "pd.isnull(result)"
      ]
    },
    {
      "cell_type": "code",
      "execution_count": null,
      "metadata": {
        "deletable": true,
        "editable": true,
        "id": "ntF5H89Dq0Lz"
      },
      "outputs": [],
      "source": [
        "result = pd.read_csv('examples/ex5.csv', na_values=['NULL'])\n",
        "result"
      ]
    },
    {
      "cell_type": "code",
      "execution_count": null,
      "metadata": {
        "deletable": true,
        "editable": true,
        "id": "3hn8Q5BUq0Lz"
      },
      "outputs": [],
      "source": [
        "sentinels = {'message': ['foo', 'NA'], 'something': ['two']}\n",
        "pd.read_csv('examples/ex5.csv', na_values=sentinels)"
      ]
    },
    {
      "cell_type": "code",
      "execution_count": null,
      "metadata": {
        "deletable": true,
        "editable": true,
        "id": "igMD9zgYq0L0"
      },
      "outputs": [],
      "source": [
        "pd.options.display.max_rows = 10"
      ]
    },
    {
      "cell_type": "code",
      "execution_count": null,
      "metadata": {
        "deletable": true,
        "editable": true,
        "id": "n1qTFjIZq0L0"
      },
      "outputs": [],
      "source": [
        "result = pd.read_csv('examples/ex6.csv')\n",
        "result"
      ]
    },
    {
      "cell_type": "code",
      "execution_count": null,
      "metadata": {
        "deletable": true,
        "editable": true,
        "id": "_E-WabZ0q0L0"
      },
      "outputs": [],
      "source": [
        "pd.read_csv('examples/ex6.csv', nrows=5)"
      ]
    },
    {
      "cell_type": "code",
      "execution_count": null,
      "metadata": {
        "deletable": true,
        "editable": true,
        "id": "i0bp00x4q0L0"
      },
      "outputs": [],
      "source": [
        "chunker = pd.read_csv('examples/ex6.csv', chunksize=1000)\n",
        "chunker"
      ]
    },
    {
      "cell_type": "code",
      "execution_count": null,
      "metadata": {
        "deletable": true,
        "editable": true,
        "id": "yrspbjPpq0L0"
      },
      "outputs": [],
      "source": [
        "chunker = pd.read_csv('examples/ex6.csv', chunksize=1000)\n",
        "\n",
        "tot = pd.Series([])\n",
        "for piece in chunker:\n",
        "    tot = tot.add(piece['key'].value_counts(), fill_value=0)\n",
        "\n",
        "tot = tot.sort_values(ascending=False)"
      ]
    },
    {
      "cell_type": "code",
      "execution_count": null,
      "metadata": {
        "deletable": true,
        "editable": true,
        "id": "19WFhqoUq0L0"
      },
      "outputs": [],
      "source": [
        "tot[:10]"
      ]
    },
    {
      "cell_type": "code",
      "execution_count": null,
      "metadata": {
        "deletable": true,
        "editable": true,
        "id": "UifCtBUwq0L1"
      },
      "outputs": [],
      "source": [
        "data = pd.read_csv('examples/ex5.csv')\n",
        "data"
      ]
    },
    {
      "cell_type": "code",
      "execution_count": null,
      "metadata": {
        "deletable": true,
        "editable": true,
        "id": "dxLvil65q0L1"
      },
      "outputs": [],
      "source": [
        "data.to_csv('examples/out.csv')\n",
        "!cat examples/out.csv"
      ]
    },
    {
      "cell_type": "code",
      "execution_count": null,
      "metadata": {
        "deletable": true,
        "editable": true,
        "id": "JsU33VwXq0L1"
      },
      "outputs": [],
      "source": [
        "import sys\n",
        "data.to_csv(sys.stdout, sep='|')"
      ]
    },
    {
      "cell_type": "code",
      "execution_count": null,
      "metadata": {
        "deletable": true,
        "editable": true,
        "id": "9WWO3aCKq0L1"
      },
      "outputs": [],
      "source": [
        "data.to_csv(sys.stdout, na_rep='NULL')"
      ]
    },
    {
      "cell_type": "code",
      "execution_count": null,
      "metadata": {
        "deletable": true,
        "editable": true,
        "id": "XGu_Lio_q0L1"
      },
      "outputs": [],
      "source": [
        "data.to_csv(sys.stdout, index=False, header=False)"
      ]
    },
    {
      "cell_type": "code",
      "execution_count": null,
      "metadata": {
        "deletable": true,
        "editable": true,
        "id": "7JAlRVhNq0L1"
      },
      "outputs": [],
      "source": [
        "data.to_csv(sys.stdout, index=False, columns=['a', 'b', 'c'])"
      ]
    },
    {
      "cell_type": "code",
      "execution_count": null,
      "metadata": {
        "deletable": true,
        "editable": true,
        "id": "R36JFCFkq0L2"
      },
      "outputs": [],
      "source": [
        "dates = pd.date_range('1/1/2000', periods=7)\n",
        "ts = pd.Series(np.arange(7), index=dates)\n",
        "ts.to_csv('examples/tseries.csv')\n",
        "!cat examples/tseries.csv"
      ]
    },
    {
      "cell_type": "code",
      "execution_count": null,
      "metadata": {
        "deletable": true,
        "editable": true,
        "id": "EigLcqcdq0L2"
      },
      "outputs": [],
      "source": [
        "!cat examples/ex7.csv"
      ]
    },
    {
      "cell_type": "code",
      "execution_count": null,
      "metadata": {
        "deletable": true,
        "editable": true,
        "id": "OlP_YWQxq0L2"
      },
      "outputs": [],
      "source": [
        "import csv\n",
        "f = open('examples/ex7.csv')\n",
        "\n",
        "reader = csv.reader(f)"
      ]
    },
    {
      "cell_type": "code",
      "execution_count": null,
      "metadata": {
        "deletable": true,
        "editable": true,
        "id": "hg1OiheMq0L2"
      },
      "outputs": [],
      "source": [
        "for line in reader:\n",
        "    print(line)"
      ]
    },
    {
      "cell_type": "code",
      "execution_count": null,
      "metadata": {
        "deletable": true,
        "editable": true,
        "id": "3IMAmCncq0L2"
      },
      "outputs": [],
      "source": [
        "with open('examples/ex7.csv') as f:\n",
        "    lines = list(csv.reader(f))"
      ]
    },
    {
      "cell_type": "code",
      "execution_count": null,
      "metadata": {
        "deletable": true,
        "editable": true,
        "id": "GSsv77gYq0L2"
      },
      "outputs": [],
      "source": [
        "header, values = lines[0], lines[1:]"
      ]
    },
    {
      "cell_type": "code",
      "execution_count": null,
      "metadata": {
        "deletable": true,
        "editable": true,
        "id": "l7k6GKgUq0L2"
      },
      "outputs": [],
      "source": [
        "data_dict = {h: v for h, v in zip(header, zip(*values))}\n",
        "data_dict"
      ]
    },
    {
      "cell_type": "code",
      "execution_count": null,
      "metadata": {
        "deletable": true,
        "editable": true,
        "id": "QF2b4Exqq0L3"
      },
      "outputs": [],
      "source": [
        "obj = \"\"\"\n",
        "{\"name\": \"Wes\",\n",
        " \"places_lived\": [\"United States\", \"Spain\", \"Germany\"],\n",
        " \"pet\": null,\n",
        " \"siblings\": [{\"name\": \"Scott\", \"age\": 30, \"pets\": [\"Zeus\", \"Zuko\"]},\n",
        "              {\"name\": \"Katie\", \"age\": 38,\n",
        "               \"pets\": [\"Sixes\", \"Stache\", \"Cisco\"]}]\n",
        "}\n",
        "\"\"\""
      ]
    },
    {
      "cell_type": "code",
      "execution_count": null,
      "metadata": {
        "deletable": true,
        "editable": true,
        "id": "BE7Bb9Cmq0L3"
      },
      "outputs": [],
      "source": [
        "import json\n",
        "result = json.loads(obj)\n",
        "result"
      ]
    },
    {
      "cell_type": "code",
      "execution_count": null,
      "metadata": {
        "deletable": true,
        "editable": true,
        "id": "mrZHcHXoq0L3"
      },
      "outputs": [],
      "source": [
        "asjson = json.dumps(result)"
      ]
    },
    {
      "cell_type": "code",
      "execution_count": null,
      "metadata": {
        "deletable": true,
        "editable": true,
        "id": "uRtVZi7dq0L3"
      },
      "outputs": [],
      "source": [
        "siblings = pd.DataFrame(result['siblings'], columns=['name', 'age'])\n",
        "siblings"
      ]
    },
    {
      "cell_type": "code",
      "execution_count": null,
      "metadata": {
        "deletable": true,
        "editable": true,
        "id": "DSHxjFhyq0L3"
      },
      "outputs": [],
      "source": [
        "!cat examples/example.json"
      ]
    },
    {
      "cell_type": "code",
      "execution_count": null,
      "metadata": {
        "deletable": true,
        "editable": true,
        "id": "Gi0m19VIq0L4"
      },
      "outputs": [],
      "source": [
        "data = pd.read_json('examples/example.json')\n",
        "data"
      ]
    },
    {
      "cell_type": "code",
      "execution_count": null,
      "metadata": {
        "deletable": true,
        "editable": true,
        "id": "JIU1Rywyq0L4"
      },
      "outputs": [],
      "source": [
        "print(data.to_json())\n",
        "print(data.to_json(orient='records'))"
      ]
    },
    {
      "cell_type": "code",
      "execution_count": null,
      "metadata": {
        "deletable": true,
        "editable": true,
        "id": "0d2SMxNwq0L4"
      },
      "outputs": [],
      "source": [
        "tables = pd.read_html('examples/fdic_failed_bank_list.html')\n",
        "len(tables)\n",
        "failures = tables[0]\n",
        "failures.head()"
      ]
    },
    {
      "cell_type": "code",
      "execution_count": null,
      "metadata": {
        "deletable": true,
        "editable": true,
        "id": "t33OEC84q0L4"
      },
      "outputs": [],
      "source": [
        "close_timestamps = pd.to_datetime(failures['Closing Date'])\n",
        "close_timestamps.dt.year.value_counts()"
      ]
    },
    {
      "cell_type": "code",
      "execution_count": null,
      "metadata": {
        "deletable": true,
        "editable": true,
        "id": "t6prBSNiq0L5"
      },
      "outputs": [],
      "source": [
        "from lxml import objectify\n",
        "\n",
        "path = 'datasets/mta_perf/Performance_MNR.xml'\n",
        "parsed = objectify.parse(open(path))\n",
        "root = parsed.getroot()"
      ]
    },
    {
      "cell_type": "code",
      "execution_count": null,
      "metadata": {
        "deletable": true,
        "editable": true,
        "id": "eMZpFnf5q0L5"
      },
      "outputs": [],
      "source": [
        "data = []\n",
        "\n",
        "skip_fields = ['PARENT_SEQ', 'INDICATOR_SEQ',\n",
        "               'DESIRED_CHANGE', 'DECIMAL_PLACES']\n",
        "\n",
        "for elt in root.INDICATOR:\n",
        "    el_data = {}\n",
        "    for child in elt.getchildren():\n",
        "        if child.tag in skip_fields:\n",
        "            continue\n",
        "        el_data[child.tag] = child.pyval\n",
        "    data.append(el_data)"
      ]
    },
    {
      "cell_type": "code",
      "execution_count": null,
      "metadata": {
        "deletable": true,
        "editable": true,
        "id": "AcPdRkMCq0L5"
      },
      "outputs": [],
      "source": [
        "perf = pd.DataFrame(data)\n",
        "perf.head()"
      ]
    },
    {
      "cell_type": "code",
      "execution_count": null,
      "metadata": {
        "deletable": true,
        "editable": true,
        "id": "Uts3mwaYq0L5"
      },
      "outputs": [],
      "source": [
        "from io import StringIO\n",
        "tag = '<a href=\"http://www.google.com\">Google</a>'\n",
        "root = objectify.parse(StringIO(tag)).getroot()"
      ]
    },
    {
      "cell_type": "code",
      "execution_count": null,
      "metadata": {
        "deletable": true,
        "editable": true,
        "id": "HbqaVE6yq0L5"
      },
      "outputs": [],
      "source": [
        "root\n",
        "root.get('href')\n",
        "root.text"
      ]
    },
    {
      "cell_type": "code",
      "execution_count": null,
      "metadata": {
        "deletable": true,
        "editable": true,
        "id": "fnwrxariq0L5"
      },
      "outputs": [],
      "source": [
        "frame = pd.read_csv('examples/ex1.csv')\n",
        "frame\n",
        "frame.to_pickle('examples/frame_pickle')"
      ]
    },
    {
      "cell_type": "code",
      "execution_count": null,
      "metadata": {
        "deletable": true,
        "editable": true,
        "id": "N90OkxkXq0L5"
      },
      "outputs": [],
      "source": [
        "pd.read_pickle('examples/frame_pickle')"
      ]
    },
    {
      "cell_type": "code",
      "execution_count": null,
      "metadata": {
        "deletable": true,
        "editable": true,
        "id": "akvr3_ziq0L6"
      },
      "outputs": [],
      "source": [
        "!rm examples/frame_pickle"
      ]
    },
    {
      "cell_type": "code",
      "execution_count": null,
      "metadata": {
        "deletable": true,
        "editable": true,
        "id": "TiLDZLm5q0L6"
      },
      "outputs": [],
      "source": [
        "frame = pd.DataFrame({'a': np.random.randn(100)})\n",
        "store = pd.HDFStore('mydata.h5')\n",
        "store['obj1'] = frame\n",
        "store['obj1_col'] = frame['a']\n",
        "store"
      ]
    },
    {
      "cell_type": "code",
      "execution_count": null,
      "metadata": {
        "deletable": true,
        "editable": true,
        "id": "OMFdLe24q0L6"
      },
      "outputs": [],
      "source": [
        "store['obj1']"
      ]
    },
    {
      "cell_type": "code",
      "execution_count": null,
      "metadata": {
        "deletable": true,
        "editable": true,
        "id": "VnFzaES_q0L6"
      },
      "outputs": [],
      "source": [
        "store.put('obj2', frame, format='table')\n",
        "store.select('obj2', where=['index >= 10 and index <= 15'])\n",
        "store.close()"
      ]
    },
    {
      "cell_type": "code",
      "execution_count": null,
      "metadata": {
        "deletable": true,
        "editable": true,
        "id": "sJig0uAgq0L6"
      },
      "outputs": [],
      "source": [
        "frame.to_hdf('mydata.h5', 'obj3', format='table')\n",
        "pd.read_hdf('mydata.h5', 'obj3', where=['index < 5'])"
      ]
    },
    {
      "cell_type": "code",
      "execution_count": null,
      "metadata": {
        "deletable": true,
        "editable": true,
        "id": "JRt5wBYDq0L6"
      },
      "outputs": [],
      "source": [
        "os.remove('mydata.h5')"
      ]
    },
    {
      "cell_type": "code",
      "execution_count": null,
      "metadata": {
        "deletable": true,
        "editable": true,
        "id": "PQns2EhIq0L6"
      },
      "outputs": [],
      "source": [
        "xlsx = pd.ExcelFile('examples/ex1.xlsx')"
      ]
    },
    {
      "cell_type": "code",
      "execution_count": null,
      "metadata": {
        "deletable": true,
        "editable": true,
        "id": "GqiWIHWlq0L7"
      },
      "outputs": [],
      "source": [
        "pd.read_excel(xlsx, 'Sheet1')"
      ]
    },
    {
      "cell_type": "code",
      "execution_count": null,
      "metadata": {
        "deletable": true,
        "editable": true,
        "id": "efdeSZ_Yq0L7"
      },
      "outputs": [],
      "source": [
        "frame = pd.read_excel('examples/ex1.xlsx', 'Sheet1')\n",
        "frame"
      ]
    },
    {
      "cell_type": "code",
      "execution_count": null,
      "metadata": {
        "deletable": true,
        "editable": true,
        "id": "0tlIqDMVq0L7"
      },
      "outputs": [],
      "source": [
        "writer = pd.ExcelWriter('examples/ex2.xlsx')\n",
        "frame.to_excel(writer, 'Sheet1')\n",
        "writer.save()"
      ]
    },
    {
      "cell_type": "code",
      "execution_count": null,
      "metadata": {
        "deletable": true,
        "editable": true,
        "id": "27B5A8Smq0L7"
      },
      "outputs": [],
      "source": [
        "frame.to_excel('examples/ex2.xlsx')"
      ]
    },
    {
      "cell_type": "code",
      "execution_count": null,
      "metadata": {
        "deletable": true,
        "editable": true,
        "id": "vo9fP0SUq0L7"
      },
      "outputs": [],
      "source": [
        "!rm examples/ex2.xlsx"
      ]
    },
    {
      "cell_type": "code",
      "execution_count": null,
      "metadata": {
        "deletable": true,
        "editable": true,
        "id": "BFRSN9ANq0L7"
      },
      "outputs": [],
      "source": [
        "import requests\n",
        "url = 'https://api.github.com/repos/pandas-dev/pandas/issues'\n",
        "resp = requests.get(url)\n",
        "resp"
      ]
    },
    {
      "cell_type": "code",
      "execution_count": null,
      "metadata": {
        "deletable": true,
        "editable": true,
        "id": "uHIP0SMuq0L7"
      },
      "outputs": [],
      "source": [
        "data = resp.json()\n",
        "data[0]['title']"
      ]
    },
    {
      "cell_type": "code",
      "execution_count": null,
      "metadata": {
        "deletable": true,
        "editable": true,
        "id": "xRbIpL7Dq0L7"
      },
      "outputs": [],
      "source": [
        "issues = pd.DataFrame(data, columns=['number', 'title',\n",
        "                                     'labels', 'state'])\n",
        "issues"
      ]
    },
    {
      "cell_type": "code",
      "execution_count": null,
      "metadata": {
        "deletable": true,
        "editable": true,
        "id": "5veN3rgpq0L8"
      },
      "outputs": [],
      "source": [
        "import sqlite3\n",
        "query = \"\"\"\n",
        "CREATE TABLE test\n",
        "(a VARCHAR(20), b VARCHAR(20),\n",
        " c REAL,        d INTEGER\n",
        ");\"\"\"\n",
        "con = sqlite3.connect('mydata.sqlite')\n",
        "con.execute(query)\n",
        "con.commit()"
      ]
    },
    {
      "cell_type": "code",
      "execution_count": null,
      "metadata": {
        "deletable": true,
        "editable": true,
        "id": "Icv-Atk2q0L8"
      },
      "outputs": [],
      "source": [
        "data = [('Atlanta', 'Georgia', 1.25, 6),\n",
        "        ('Tallahassee', 'Florida', 2.6, 3),\n",
        "        ('Sacramento', 'California', 1.7, 5)]\n",
        "stmt = \"INSERT INTO test VALUES(?, ?, ?, ?)\"\n",
        "con.executemany(stmt, data)\n",
        "con.commit()"
      ]
    },
    {
      "cell_type": "code",
      "execution_count": null,
      "metadata": {
        "deletable": true,
        "editable": true,
        "id": "iCBs4Jslq0L8"
      },
      "outputs": [],
      "source": [
        "cursor = con.execute('select * from test')\n",
        "rows = cursor.fetchall()\n",
        "rows"
      ]
    },
    {
      "cell_type": "code",
      "execution_count": null,
      "metadata": {
        "deletable": true,
        "editable": true,
        "id": "s4bIf8y0q0L8"
      },
      "outputs": [],
      "source": [
        "cursor.description\n",
        "pd.DataFrame(rows, columns=[x[0] for x in cursor.description])"
      ]
    },
    {
      "cell_type": "code",
      "execution_count": null,
      "metadata": {
        "deletable": true,
        "editable": true,
        "id": "8FSCh4EHq0L8"
      },
      "outputs": [],
      "source": [
        "import sqlalchemy as sqla\n",
        "db = sqla.create_engine('sqlite:///mydata.sqlite')\n",
        "pd.read_sql('select * from test', db)"
      ]
    },
    {
      "cell_type": "code",
      "execution_count": null,
      "metadata": {
        "deletable": true,
        "editable": true,
        "id": "lJHcJmTiq0L8"
      },
      "outputs": [],
      "source": [
        "!rm mydata.sqlite"
      ]
    }
  ],
  "metadata": {
    "kernelspec": {
      "display_name": "Python 3",
      "language": "python",
      "name": "python3"
    },
    "language_info": {
      "codemirror_mode": {
        "name": "ipython",
        "version": 3
      },
      "file_extension": ".py",
      "mimetype": "text/x-python",
      "name": "python",
      "nbconvert_exporter": "python",
      "pygments_lexer": "ipython3",
      "version": "3.6.0"
    },
    "colab": {
      "name": "LoadingStrogeFormats.ipynb",
      "provenance": []
    }
  },
  "nbformat": 4,
  "nbformat_minor": 0
}